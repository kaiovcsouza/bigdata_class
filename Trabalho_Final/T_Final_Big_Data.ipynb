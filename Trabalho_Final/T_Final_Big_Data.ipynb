{
  "nbformat": 4,
  "nbformat_minor": 0,
  "metadata": {
    "colab": {
      "name": "T_Final - Big Data.ipynb",
      "provenance": [],
      "collapsed_sections": []
    },
    "kernelspec": {
      "name": "python3",
      "display_name": "Python 3"
    },
    "language_info": {
      "name": "python"
    }
  },
  "cells": [
    {
      "cell_type": "markdown",
      "source": [
        "# **Projeto de Disciplina**\n",
        "## Big Data e Processamento Distribuído \n",
        "---\n",
        "### **Aluno**: Kaio Vinícius Cândido de Souza\n",
        "### **Dataset Utilizado**: ([Body performance Data](https://www.kaggle.com/kukuroo3/body-performance-data)) disponibilizado pelo Kaggle.\n",
        "### **Objetivo**: Realizar um ciclo de ciência de dados completo no Spark. \n"
      ],
      "metadata": {
        "id": "GzDDLN6MCp-O"
      }
    },
    {
      "cell_type": "code",
      "execution_count": 1,
      "metadata": {
        "id": "DNE2wtCz6aBL"
      },
      "outputs": [],
      "source": [
        "!apt-get install openjdk-8-jdk-headless -qq > /dev/null\n",
        "!wget -q https://archive.apache.org/dist/spark/spark-3.2.0/spark-3.2.0-bin-hadoop3.2.tgz\n",
        "!tar xf spark-3.2.0-bin-hadoop3.2.tgz\n",
        "!pip install -q findspark"
      ]
    },
    {
      "cell_type": "markdown",
      "source": [
        "## 1. Setup do Projeto"
      ],
      "metadata": {
        "id": "MZIFm4VQFgf7"
      }
    },
    {
      "cell_type": "code",
      "source": [
        "import findspark\n",
        "findspark.init('spark-3.2.0-bin-hadoop3.2')\n",
        "\n",
        "import pyspark\n",
        "from pyspark.sql import SparkSession\n",
        "from pyspark.ml.feature import StringIndexer, VectorAssembler\n",
        "from pyspark.sql.functions import col\n",
        "\n",
        "from pyspark.ml.classification import DecisionTreeClassifier, RandomForestClassifier, LogisticRegression, FMClassifier\n",
        "\n",
        "from pyspark.ml.evaluation import RegressionEvaluator, MulticlassClassificationEvaluator, BinaryClassificationEvaluator\n",
        "spark = SparkSession.builder.getOrCreate()\n",
        "\n",
        "print(spark)"
      ],
      "metadata": {
        "colab": {
          "base_uri": "https://localhost:8080/"
        },
        "id": "zBPrViPj7OEL",
        "outputId": "13ab801c-94e9-44d8-b8d0-f4fb0dfd2a8e"
      },
      "execution_count": 28,
      "outputs": [
        {
          "output_type": "stream",
          "name": "stdout",
          "text": [
            "<pyspark.sql.session.SparkSession object at 0x7f0b546ae590>\n"
          ]
        }
      ]
    },
    {
      "cell_type": "markdown",
      "source": [
        "## 2. Exploração de dados"
      ],
      "metadata": {
        "id": "bqGqorqKFucw"
      }
    },
    {
      "cell_type": "code",
      "source": [
        "df = spark.read.csv('/content/bodyPerformance.csv', header=True, inferSchema=True, nullValue='NA')\n",
        "\n",
        "body_performance_df = df.withColumnRenamed(\"body fat_%\",\"body_fat\").withColumnRenamed(\"sit and bend forward_cm\",\"sit_bend_forward\").withColumnRenamed(\"sit-ups counts\",\"sit_ups_counts\").withColumnRenamed(\"broad jump_cm\",\"broad_jump_cm\")\n",
        "                        "
      ],
      "metadata": {
        "id": "KPUTpbwk7TsU"
      },
      "execution_count": 3,
      "outputs": []
    },
    {
      "cell_type": "code",
      "source": [
        "body_performance_df.show(10)\n",
        "body_performance_df.groupBy('class').count().show()"
      ],
      "metadata": {
        "colab": {
          "base_uri": "https://localhost:8080/"
        },
        "id": "ypJ6xlrK9rPV",
        "outputId": "dad1afc8-6aed-4976-bfa8-c5925e6d10ef"
      },
      "execution_count": 36,
      "outputs": [
        {
          "output_type": "stream",
          "name": "stdout",
          "text": [
            "+---+------+---------+---------+--------+---------+--------+---------+----------------+--------------+-------------+-----+\n",
            "|age|gender|height_cm|weight_kg|body_fat|diastolic|systolic|gripForce|sit_bend_forward|sit_ups_counts|broad_jump_cm|class|\n",
            "+---+------+---------+---------+--------+---------+--------+---------+----------------+--------------+-------------+-----+\n",
            "| 27|     M|    172.3|    75.24|    21.3|       80|     130|     54.9|            18.4|            60|          217|    C|\n",
            "| 25|     M|    165.0|     55.8|    15.7|       77|     126|     36.4|            16.3|            53|          229|    A|\n",
            "| 31|     M|    179.6|     78.0|    20.1|       92|     152|     44.8|            12.0|            49|          181|    C|\n",
            "| 32|     M|    174.5|     71.1|    18.4|       76|     147|     41.4|            15.2|            53|          219|    B|\n",
            "| 28|     M|    173.8|     67.7|    17.1|       70|     127|     43.5|            27.1|            45|          217|    B|\n",
            "| 36|     F|    165.4|     55.4|    22.0|       64|     119|     23.8|            21.0|            27|          153|    B|\n",
            "| 42|     F|    164.5|     63.7|    32.2|       72|     135|     22.7|             0.8|            18|          146|    D|\n",
            "| 33|     M|    174.9|     77.2|    36.9|       84|     137|     45.9|            12.3|            42|          234|    B|\n",
            "| 54|     M|    166.8|     67.5|    27.6|       85|     165|     40.4|            18.6|            34|          148|    C|\n",
            "| 28|     M|    185.0|     84.6|    14.4|       81|     156|     57.9|            12.1|            55|          213|    B|\n",
            "+---+------+---------+---------+--------+---------+--------+---------+----------------+--------------+-------------+-----+\n",
            "only showing top 10 rows\n",
            "\n",
            "+-----+-----+\n",
            "|class|count|\n",
            "+-----+-----+\n",
            "|    B| 3347|\n",
            "|    D| 3349|\n",
            "|    C| 3349|\n",
            "|    A| 3348|\n",
            "+-----+-----+\n",
            "\n"
          ]
        }
      ]
    },
    {
      "cell_type": "markdown",
      "source": [
        "Este é a base do nosso dataset, temos 4 classes que representam a \"performance\" de aptidão física de A a D sendo A a melhor classificação. O intuito é modelar os dados para que possamos treinar um modelo que classifique a performance de um ser humano baseado em sua aptidão física."
      ],
      "metadata": {
        "id": "R1Bvf7hgG_SP"
      }
    },
    {
      "cell_type": "code",
      "source": [
        "print('Mudando o tipo de variaveis para o tipo inteiro')\n",
        "body_performance_df = body_performance_df.withColumn('age',col('age').cast(\"integer\"))\n",
        "body_performance_df = body_performance_df.withColumn('diastolic',col('diastolic').cast(\"integer\"))\n",
        "body_performance_df = body_performance_df.withColumn('systolic',col('systolic').cast(\"integer\"))\n",
        "body_performance_df = body_performance_df.withColumn('sit_ups_counts',col('sit_ups_counts').cast(\"integer\"))\n",
        "body_performance_df = body_performance_df.withColumn('broad_jump_cm',col('broad_jump_cm').cast(\"integer\"))\n",
        "body_performance_df.printSchema()"
      ],
      "metadata": {
        "colab": {
          "base_uri": "https://localhost:8080/"
        },
        "id": "C_wKlJY1-yp-",
        "outputId": "7983b684-82c5-4500-8e22-54811d2b1d84"
      },
      "execution_count": 5,
      "outputs": [
        {
          "output_type": "stream",
          "name": "stdout",
          "text": [
            "Mudando o tipo de variaveis para o tipo inteiro\n",
            "root\n",
            " |-- age: integer (nullable = true)\n",
            " |-- gender: string (nullable = true)\n",
            " |-- height_cm: double (nullable = true)\n",
            " |-- weight_kg: double (nullable = true)\n",
            " |-- body_fat: double (nullable = true)\n",
            " |-- diastolic: integer (nullable = true)\n",
            " |-- systolic: integer (nullable = true)\n",
            " |-- gripForce: double (nullable = true)\n",
            " |-- sit_bend_forward: double (nullable = true)\n",
            " |-- sit_ups_counts: integer (nullable = true)\n",
            " |-- broad_jump_cm: integer (nullable = true)\n",
            " |-- class: string (nullable = true)\n",
            "\n"
          ]
        }
      ]
    },
    {
      "cell_type": "code",
      "source": [
        "body_performance_df.show(10)"
      ],
      "metadata": {
        "colab": {
          "base_uri": "https://localhost:8080/"
        },
        "id": "3cJ1tkEnQR38",
        "outputId": "e646a714-d098-489c-bc44-730e039c6e49"
      },
      "execution_count": 6,
      "outputs": [
        {
          "output_type": "stream",
          "name": "stdout",
          "text": [
            "+---+------+---------+---------+--------+---------+--------+---------+----------------+--------------+-------------+-----+\n",
            "|age|gender|height_cm|weight_kg|body_fat|diastolic|systolic|gripForce|sit_bend_forward|sit_ups_counts|broad_jump_cm|class|\n",
            "+---+------+---------+---------+--------+---------+--------+---------+----------------+--------------+-------------+-----+\n",
            "| 27|     M|    172.3|    75.24|    21.3|       80|     130|     54.9|            18.4|            60|          217|    C|\n",
            "| 25|     M|    165.0|     55.8|    15.7|       77|     126|     36.4|            16.3|            53|          229|    A|\n",
            "| 31|     M|    179.6|     78.0|    20.1|       92|     152|     44.8|            12.0|            49|          181|    C|\n",
            "| 32|     M|    174.5|     71.1|    18.4|       76|     147|     41.4|            15.2|            53|          219|    B|\n",
            "| 28|     M|    173.8|     67.7|    17.1|       70|     127|     43.5|            27.1|            45|          217|    B|\n",
            "| 36|     F|    165.4|     55.4|    22.0|       64|     119|     23.8|            21.0|            27|          153|    B|\n",
            "| 42|     F|    164.5|     63.7|    32.2|       72|     135|     22.7|             0.8|            18|          146|    D|\n",
            "| 33|     M|    174.9|     77.2|    36.9|       84|     137|     45.9|            12.3|            42|          234|    B|\n",
            "| 54|     M|    166.8|     67.5|    27.6|       85|     165|     40.4|            18.6|            34|          148|    C|\n",
            "| 28|     M|    185.0|     84.6|    14.4|       81|     156|     57.9|            12.1|            55|          213|    B|\n",
            "+---+------+---------+---------+--------+---------+--------+---------+----------------+--------------+-------------+-----+\n",
            "only showing top 10 rows\n",
            "\n"
          ]
        }
      ]
    },
    {
      "cell_type": "markdown",
      "source": [
        "#### 2.1 Indexando o gênero e a classe."
      ],
      "metadata": {
        "id": "pBnsRj7FH1Pe"
      }
    },
    {
      "cell_type": "code",
      "source": [
        "print('Indexando \"gender\"')\n",
        "indexer = StringIndexer(inputCol='gender', outputCol='gender_idx')\n",
        "indexer_model = indexer.fit(body_performance_df)\n",
        "df_g_indexed = indexer_model.transform(body_performance_df)\n",
        "df_g_indexed.select('gender', 'gender_idx').distinct().show()\n",
        "\n",
        "print('Indexando \"class\"')\n",
        "indexer = StringIndexer(inputCol='class', outputCol='class_idx')\n",
        "indexer_model = indexer.fit(df_g_indexed)\n",
        "body_df_indexed = indexer_model.transform(df_g_indexed)\n",
        "body_df_indexed.select('class', 'class_idx').distinct().show()"
      ],
      "metadata": {
        "colab": {
          "base_uri": "https://localhost:8080/"
        },
        "id": "vukrrwt5AAlG",
        "outputId": "8e6d71d5-cf90-41e2-d6d4-d6f28b2fa835"
      },
      "execution_count": 7,
      "outputs": [
        {
          "output_type": "stream",
          "name": "stdout",
          "text": [
            "Indexando \"gender\"\n",
            "+------+----------+\n",
            "|gender|gender_idx|\n",
            "+------+----------+\n",
            "|     F|       1.0|\n",
            "|     M|       0.0|\n",
            "+------+----------+\n",
            "\n",
            "Indexando \"class\"\n",
            "+-----+---------+\n",
            "|class|class_idx|\n",
            "+-----+---------+\n",
            "|    B|      3.0|\n",
            "|    C|      0.0|\n",
            "|    D|      1.0|\n",
            "|    A|      2.0|\n",
            "+-----+---------+\n",
            "\n"
          ]
        }
      ]
    },
    {
      "cell_type": "markdown",
      "source": [
        "Testando OneHotEncoder"
      ],
      "metadata": {
        "id": "5mWUlYTFBb9U"
      }
    },
    {
      "cell_type": "code",
      "source": [
        "body_df_indexed = body_df_indexed.drop(*['gender', 'class'])\n",
        "body_df_indexed.show(10)"
      ],
      "metadata": {
        "colab": {
          "base_uri": "https://localhost:8080/"
        },
        "id": "jQygITiKAukC",
        "outputId": "8638f30f-e031-469e-b8a3-9f43cacb9723"
      },
      "execution_count": 16,
      "outputs": [
        {
          "output_type": "stream",
          "name": "stdout",
          "text": [
            "+---+---------+---------+--------+---------+--------+---------+----------------+--------------+-------------+----------+---------+\n",
            "|age|height_cm|weight_kg|body_fat|diastolic|systolic|gripForce|sit_bend_forward|sit_ups_counts|broad_jump_cm|gender_idx|class_idx|\n",
            "+---+---------+---------+--------+---------+--------+---------+----------------+--------------+-------------+----------+---------+\n",
            "| 27|    172.3|    75.24|    21.3|       80|     130|     54.9|            18.4|            60|          217|       0.0|      0.0|\n",
            "| 25|    165.0|     55.8|    15.7|       77|     126|     36.4|            16.3|            53|          229|       0.0|      2.0|\n",
            "| 31|    179.6|     78.0|    20.1|       92|     152|     44.8|            12.0|            49|          181|       0.0|      0.0|\n",
            "| 32|    174.5|     71.1|    18.4|       76|     147|     41.4|            15.2|            53|          219|       0.0|      3.0|\n",
            "| 28|    173.8|     67.7|    17.1|       70|     127|     43.5|            27.1|            45|          217|       0.0|      3.0|\n",
            "| 36|    165.4|     55.4|    22.0|       64|     119|     23.8|            21.0|            27|          153|       1.0|      3.0|\n",
            "| 42|    164.5|     63.7|    32.2|       72|     135|     22.7|             0.8|            18|          146|       1.0|      1.0|\n",
            "| 33|    174.9|     77.2|    36.9|       84|     137|     45.9|            12.3|            42|          234|       0.0|      3.0|\n",
            "| 54|    166.8|     67.5|    27.6|       85|     165|     40.4|            18.6|            34|          148|       0.0|      0.0|\n",
            "| 28|    185.0|     84.6|    14.4|       81|     156|     57.9|            12.1|            55|          213|       0.0|      3.0|\n",
            "+---+---------+---------+--------+---------+--------+---------+----------------+--------------+-------------+----------+---------+\n",
            "only showing top 10 rows\n",
            "\n"
          ]
        }
      ]
    },
    {
      "cell_type": "markdown",
      "source": [
        "#### 2.2 Simplificando os dados de treinamento em 2 colunas (features e class)."
      ],
      "metadata": {
        "id": "Wedb3QCsIcTp"
      }
    },
    {
      "cell_type": "code",
      "source": [
        "cols_to_use = ['age','height_cm','weight_kg','body_fat','diastolic', 'systolic', 'gripForce', 'sit_bend_forward', 'sit_ups_counts', 'broad_jump_cm', 'gender_idx']\n",
        "vec = VectorAssembler(inputCols=cols_to_use, outputCol='features')\n",
        "body_df_vec = vec.transform(body_df_indexed)\n",
        "body_df_vec.select('features', 'class_idx').show(truncate=False)"
      ],
      "metadata": {
        "colab": {
          "base_uri": "https://localhost:8080/"
        },
        "id": "TX3oP7ZtDHkG",
        "outputId": "dde39da4-9081-410a-bff8-196328865738"
      },
      "execution_count": 18,
      "outputs": [
        {
          "output_type": "stream",
          "name": "stdout",
          "text": [
            "+-----------------------------------------------------------+---------+\n",
            "|features                                                   |class_idx|\n",
            "+-----------------------------------------------------------+---------+\n",
            "|[27.0,172.3,75.24,21.3,80.0,130.0,54.9,18.4,60.0,217.0,0.0]|0.0      |\n",
            "|[25.0,165.0,55.8,15.7,77.0,126.0,36.4,16.3,53.0,229.0,0.0] |2.0      |\n",
            "|[31.0,179.6,78.0,20.1,92.0,152.0,44.8,12.0,49.0,181.0,0.0] |0.0      |\n",
            "|[32.0,174.5,71.1,18.4,76.0,147.0,41.4,15.2,53.0,219.0,0.0] |3.0      |\n",
            "|[28.0,173.8,67.7,17.1,70.0,127.0,43.5,27.1,45.0,217.0,0.0] |3.0      |\n",
            "|[36.0,165.4,55.4,22.0,64.0,119.0,23.8,21.0,27.0,153.0,1.0] |3.0      |\n",
            "|[42.0,164.5,63.7,32.2,72.0,135.0,22.7,0.8,18.0,146.0,1.0]  |1.0      |\n",
            "|[33.0,174.9,77.2,36.9,84.0,137.0,45.9,12.3,42.0,234.0,0.0] |3.0      |\n",
            "|[54.0,166.8,67.5,27.6,85.0,165.0,40.4,18.6,34.0,148.0,0.0] |0.0      |\n",
            "|[28.0,185.0,84.6,14.4,81.0,156.0,57.9,12.1,55.0,213.0,0.0] |3.0      |\n",
            "|[42.0,169.2,65.4,19.3,63.0,110.0,43.5,16.0,68.0,211.0,0.0] |2.0      |\n",
            "|[57.0,153.0,49.0,20.9,69.0,106.0,21.5,30.0,0.0,90.0,1.0]   |1.0      |\n",
            "|[27.0,156.0,53.9,35.5,69.0,116.0,23.1,13.1,28.0,144.0,1.0] |0.0      |\n",
            "|[22.0,175.7,67.9,11.3,71.0,103.0,52.5,19.2,55.0,232.0,0.0] |0.0      |\n",
            "|[24.0,181.0,84.4,20.4,80.0,120.0,48.9,7.2,54.0,213.0,0.0]  |0.0      |\n",
            "|[45.0,159.0,63.1,30.9,93.0,144.0,34.1,19.0,30.0,155.0,1.0] |2.0      |\n",
            "|[25.0,164.2,66.6,30.2,82.0,120.0,25.7,22.9,39.0,178.0,1.0] |0.0      |\n",
            "|[26.0,179.9,71.5,9.7,64.0,135.0,59.6,17.8,61.0,239.0,0.0]  |2.0      |\n",
            "|[26.0,169.2,70.6,21.0,63.0,129.0,41.3,15.1,53.0,225.0,0.0] |3.0      |\n",
            "|[21.0,162.7,47.2,18.9,78.0,133.0,25.4,20.5,36.0,137.0,1.0] |3.0      |\n",
            "+-----------------------------------------------------------+---------+\n",
            "only showing top 20 rows\n",
            "\n"
          ]
        }
      ]
    },
    {
      "cell_type": "markdown",
      "source": [
        "## 3. Treinando e testando o modelo"
      ],
      "metadata": {
        "id": "YGiwR826ReJI"
      }
    },
    {
      "cell_type": "markdown",
      "source": [
        "### 3.1 DecisionTreeClassifier"
      ],
      "metadata": {
        "id": "e_OcgJNkRi7B"
      }
    },
    {
      "cell_type": "code",
      "source": [
        "body_train, body_test = body_df_vec.randomSplit([0.8,0.2], seed=123)\n",
        "print('Decision tree Classifier')\n",
        "dt_body_model = DecisionTreeClassifier(featuresCol='features', labelCol='class_idx')\n",
        "preds_dt_body = dt_body_model.fit(body_train).transform(body_test)\n",
        "preds_dt_body.select('class_idx', 'prediction', 'probability').show(truncate=False)\n",
        "\n",
        "multi_eval = MulticlassClassificationEvaluator().setLabelCol('class_idx')\n",
        "prec_dt_body = round(multi_eval.evaluate(preds_dt_body, {multi_eval.metricName: 'weightedPrecision'}),2)\n",
        "recall_dt_body = round(multi_eval.evaluate(preds_dt_body, {multi_eval.metricName: 'weightedRecall'}),2)\n",
        "\n",
        "print('Matriz de confusão')\n",
        "preds_dt_body.groupBy('class_idx', 'prediction').count().show()\n",
        "\n",
        "print(f'Precision: {prec_dt_body}')\n",
        "print(f'Recall: {recall_dt_body}')"
      ],
      "metadata": {
        "colab": {
          "base_uri": "https://localhost:8080/"
        },
        "id": "P6pRtQ4CFbbF",
        "outputId": "3a4a9747-8cc2-4e88-c39c-8cab72bd9975"
      },
      "execution_count": 31,
      "outputs": [
        {
          "output_type": "stream",
          "name": "stdout",
          "text": [
            "Decision tree Classifier\n",
            "+---------+----------+--------------------------------------------------------------------------------+\n",
            "|class_idx|prediction|probability                                                                     |\n",
            "+---------+----------+--------------------------------------------------------------------------------+\n",
            "|1.0      |0.0       |[0.5570032573289903,0.20358306188925082,0.0,0.23941368078175895]                |\n",
            "|3.0      |2.0       |[0.09014675052410902,0.011879804332634521,0.6995108315863033,0.1984626135569532]|\n",
            "|1.0      |1.0       |[0.0,1.0,0.0,0.0]                                                               |\n",
            "|0.0      |0.0       |[0.5570032573289903,0.20358306188925082,0.0,0.23941368078175895]                |\n",
            "|0.0      |0.0       |[0.5570032573289903,0.20358306188925082,0.0,0.23941368078175895]                |\n",
            "|2.0      |2.0       |[0.09014675052410902,0.011879804332634521,0.6995108315863033,0.1984626135569532]|\n",
            "|0.0      |3.0       |[0.1952662721893491,0.05029585798816568,0.07100591715976332,0.6834319526627219] |\n",
            "|3.0      |3.0       |[0.1952662721893491,0.05029585798816568,0.07100591715976332,0.6834319526627219] |\n",
            "|3.0      |2.0       |[0.09014675052410902,0.011879804332634521,0.6995108315863033,0.1984626135569532]|\n",
            "|2.0      |2.0       |[0.09014675052410902,0.011879804332634521,0.6995108315863033,0.1984626135569532]|\n",
            "|1.0      |3.0       |[0.1952662721893491,0.05029585798816568,0.07100591715976332,0.6834319526627219] |\n",
            "|2.0      |2.0       |[0.09014675052410902,0.011879804332634521,0.6995108315863033,0.1984626135569532]|\n",
            "|3.0      |2.0       |[0.09014675052410902,0.011879804332634521,0.6995108315863033,0.1984626135569532]|\n",
            "|0.0      |0.0       |[0.7738095238095238,0.13095238095238096,0.0,0.09523809523809523]                |\n",
            "|1.0      |3.0       |[0.1952662721893491,0.05029585798816568,0.07100591715976332,0.6834319526627219] |\n",
            "|0.0      |0.0       |[0.34965034965034963,0.2331002331002331,0.10256410256410256,0.3146853146853147] |\n",
            "|1.0      |0.0       |[0.34965034965034963,0.2331002331002331,0.10256410256410256,0.3146853146853147] |\n",
            "|2.0      |2.0       |[0.09014675052410902,0.011879804332634521,0.6995108315863033,0.1984626135569532]|\n",
            "|2.0      |2.0       |[0.09014675052410902,0.011879804332634521,0.6995108315863033,0.1984626135569532]|\n",
            "|3.0      |3.0       |[0.1952662721893491,0.05029585798816568,0.07100591715976332,0.6834319526627219] |\n",
            "+---------+----------+--------------------------------------------------------------------------------+\n",
            "only showing top 20 rows\n",
            "\n",
            "Matriz de confusão\n",
            "+---------+----------+-----+\n",
            "|class_idx|prediction|count|\n",
            "+---------+----------+-----+\n",
            "|      2.0|       0.0|   11|\n",
            "|      1.0|       1.0|  432|\n",
            "|      3.0|       2.0|  311|\n",
            "|      0.0|       1.0|   41|\n",
            "|      1.0|       0.0|   96|\n",
            "|      2.0|       2.0|  604|\n",
            "|      3.0|       1.0|   22|\n",
            "|      2.0|       3.0|   60|\n",
            "|      1.0|       2.0|   61|\n",
            "|      0.0|       0.0|  288|\n",
            "|      1.0|       3.0|   82|\n",
            "|      0.0|       2.0|  170|\n",
            "|      3.0|       3.0|  269|\n",
            "|      0.0|       3.0|  168|\n",
            "|      3.0|       0.0|   96|\n",
            "+---------+----------+-----+\n",
            "\n",
            "Precision: 0.61\n",
            "Recall: 0.59\n"
          ]
        }
      ]
    },
    {
      "cell_type": "markdown",
      "source": [
        "### 3.2 LogisticRegression"
      ],
      "metadata": {
        "id": "mjQXsQCRRrVr"
      }
    },
    {
      "cell_type": "code",
      "source": [
        "logrec_model = LogisticRegression(featuresCol='features', labelCol='class_idx')\n",
        "preds_log_body = logrec_model.fit(body_train).transform(body_test)\n",
        "preds_log_body.select('class_idx', 'prediction', 'probability').show(truncate=False)\n",
        "\n",
        "multi_eval = MulticlassClassificationEvaluator().setLabelCol('class_idx')\n",
        "prec_log_body = round(multi_eval.evaluate(preds_log_body, {multi_eval.metricName: 'weightedPrecision'}),2)\n",
        "recall_log_body = round(multi_eval.evaluate(preds_log_body, {multi_eval.metricName: 'weightedRecall'}),2)\n",
        "\n",
        "print('Matriz de confusão')\n",
        "preds_log_body.groupBy('class_idx', 'prediction').count().show()\n",
        "\n",
        "print(f'Precision: {prec_log_body}')\n",
        "print(f'Recall: {recall_log_body}')\n"
      ],
      "metadata": {
        "colab": {
          "base_uri": "https://localhost:8080/"
        },
        "id": "EFFli7jzIP9D",
        "outputId": "cf10a74b-c148-4a00-9fe0-719b208d00da"
      },
      "execution_count": 32,
      "outputs": [
        {
          "output_type": "stream",
          "name": "stdout",
          "text": [
            "+---------+----------+------------------------------------------------------------------------------------+\n",
            "|class_idx|prediction|probability                                                                         |\n",
            "+---------+----------+------------------------------------------------------------------------------------+\n",
            "|1.0      |1.0       |[0.13399581293409707,0.8599506994832524,2.3157619353976277E-5,0.006030329963296604] |\n",
            "|3.0      |3.0       |[0.28616968371074225,0.09808450794069674,0.1633729270774801,0.45237288127108094]    |\n",
            "|1.0      |1.0       |[0.003597412727590517,0.9963854627820823,2.997062997752001E-9,1.7121493264173092E-5]|\n",
            "|0.0      |1.0       |[0.174419327922463,0.8007617075474422,4.2020932699061037E-4,0.02439875520310417]    |\n",
            "|0.0      |1.0       |[0.35215814368750437,0.5931511798160712,0.001245165572132867,0.053445510924291444]  |\n",
            "|2.0      |3.0       |[0.18793684536872593,0.01940990832991869,0.3387435642406383,0.45390968206071713]    |\n",
            "|0.0      |3.0       |[0.2991321325593357,0.014276904624749658,0.26372142695544076,0.422869535860474]     |\n",
            "|3.0      |3.0       |[0.2283494125219058,0.032281813184612485,0.28952353074346887,0.4498452435500127]    |\n",
            "|3.0      |2.0       |[0.14241702254127553,0.010792533112775098,0.4400964337635811,0.4066940105823682]    |\n",
            "|2.0      |2.0       |[0.009264342903850972,2.998354127331983E-4,0.8707789915622592,0.11965683012115648]  |\n",
            "|1.0      |3.0       |[0.3609544485436983,0.21746690540712513,0.04483341144198582,0.3767452346071907]     |\n",
            "|2.0      |2.0       |[0.017932661164750355,5.221160555663765E-4,0.8085328224251238,0.17301240035455945]  |\n",
            "|3.0      |2.0       |[0.17734315393534453,0.006227715250122141,0.4542326909958798,0.3621964398186534]    |\n",
            "|0.0      |0.0       |[0.5180403927289975,0.2317515585819012,0.022785771694696807,0.22742227699440443]    |\n",
            "|1.0      |1.0       |[0.23858403724135863,0.6345138932679574,0.006523534373670519,0.12037853511701353]   |\n",
            "|0.0      |0.0       |[0.5789387810026769,0.1561189528225233,0.030375606454780366,0.23456665972001936]    |\n",
            "|1.0      |0.0       |[0.5821645020144428,0.10120611796880545,0.05370508409322269,0.26292429592352906]    |\n",
            "|2.0      |2.0       |[0.07168967896924357,0.004107950655445239,0.6077173151810099,0.3164850551943013]    |\n",
            "|2.0      |3.0       |[0.1833107070424823,0.01855022818051707,0.3893599502736713,0.4087791145033293]      |\n",
            "|3.0      |0.0       |[0.46963323421505176,0.36716866555308797,0.010353469599430494,0.15284463063242967]  |\n",
            "+---------+----------+------------------------------------------------------------------------------------+\n",
            "only showing top 20 rows\n",
            "\n",
            "Matriz de confusão\n",
            "+---------+----------+-----+\n",
            "|class_idx|prediction|count|\n",
            "+---------+----------+-----+\n",
            "|      2.0|       0.0|   12|\n",
            "|      1.0|       1.0|  523|\n",
            "|      3.0|       2.0|  180|\n",
            "|      0.0|       1.0|  122|\n",
            "|      2.0|       2.0|  503|\n",
            "|      1.0|       0.0|   96|\n",
            "|      3.0|       1.0|   19|\n",
            "|      2.0|       3.0|  160|\n",
            "|      1.0|       2.0|   10|\n",
            "|      0.0|       0.0|  353|\n",
            "|      1.0|       3.0|   42|\n",
            "|      0.0|       2.0|   52|\n",
            "|      3.0|       3.0|  300|\n",
            "|      0.0|       3.0|  140|\n",
            "|      3.0|       0.0|  199|\n",
            "+---------+----------+-----+\n",
            "\n",
            "Precision: 0.61\n",
            "Recall: 0.62\n"
          ]
        }
      ]
    },
    {
      "cell_type": "markdown",
      "source": [
        "### 3.3 RandomForestClassifier"
      ],
      "metadata": {
        "id": "6CKvFeE1S9Qf"
      }
    },
    {
      "cell_type": "code",
      "source": [
        "rfc = RandomForestClassifier(featuresCol='features', labelCol='class_idx', numTrees=20)\n",
        "preds_rfc_body = rfc.fit(body_train).transform(body_test)\n",
        "preds_rfc_body.select('class_idx', 'prediction', 'probability').show(truncate=False)\n",
        "\n",
        "multi_eval = MulticlassClassificationEvaluator().setLabelCol('class_idx')\n",
        "prec_rfc_body = round(multi_eval.evaluate(preds_rfc_body, {multi_eval.metricName: 'weightedPrecision'}),2)\n",
        "recall_rfc_body = round(multi_eval.evaluate(preds_rfc_body, {multi_eval.metricName: 'weightedRecall'}),2)\n",
        "\n",
        "print('Matriz de confusão')\n",
        "preds_rfc_body.groupBy('class_idx', 'prediction').count().show()\n",
        "\n",
        "print(f'Precision: {prec_rfc_body}')\n",
        "print(f'Recall: {recall_rfc_body}')"
      ],
      "metadata": {
        "colab": {
          "base_uri": "https://localhost:8080/"
        },
        "id": "f5KhUJKaI47w",
        "outputId": "e8576733-f075-41eb-a50a-168a0f089366"
      },
      "execution_count": 33,
      "outputs": [
        {
          "output_type": "stream",
          "name": "stdout",
          "text": [
            "+---------+----------+---------------------------------------------------------------------------------+\n",
            "|class_idx|prediction|probability                                                                      |\n",
            "+---------+----------+---------------------------------------------------------------------------------+\n",
            "|1.0      |0.0       |[0.513516963506931,0.3397368070765225,0.026820889736996312,0.11992533967955024]  |\n",
            "|3.0      |2.0       |[0.14124072985898004,0.04870292777929774,0.5454544942670634,0.2646018480946589]  |\n",
            "|1.0      |1.0       |[0.07141615318364399,0.9050523654107314,0.004406883707380007,0.0191245976982445] |\n",
            "|0.0      |1.0       |[0.41891694999828794,0.436951750110956,0.019800796673282713,0.12433050321747341] |\n",
            "|0.0      |0.0       |[0.3599738820634944,0.2169209423919407,0.0977080615403588,0.3253971140042061]    |\n",
            "|2.0      |2.0       |[0.1453104974587661,0.05198510640965226,0.5108128379137058,0.2918915582178759]   |\n",
            "|0.0      |3.0       |[0.33531996265452,0.1188539755559761,0.17215905528137748,0.37366700650812645]    |\n",
            "|3.0      |2.0       |[0.2134133257166086,0.09346595737493162,0.34881321808712207,0.3443074988213377]  |\n",
            "|3.0      |2.0       |[0.12756929624085958,0.035735783082554325,0.5925177596986254,0.24417716097796074]|\n",
            "|2.0      |2.0       |[0.1340766254418703,0.05315342427931445,0.5499516623556322,0.2628182879231831]   |\n",
            "|1.0      |0.0       |[0.2818316573194109,0.2812960551626702,0.18464292662068454,0.2522293608972344]   |\n",
            "|2.0      |2.0       |[0.12559334824544544,0.0459297603494342,0.5681334022573956,0.26034348914772476]  |\n",
            "|3.0      |2.0       |[0.12680573730097103,0.03136578648945507,0.5963841099059677,0.24544436630360628] |\n",
            "|0.0      |0.0       |[0.4045562410067031,0.22598729742603513,0.11019591172149559,0.25926054984576613] |\n",
            "|1.0      |3.0       |[0.2250230375570803,0.1561142270612668,0.2453043311866298,0.373558404195023]     |\n",
            "|0.0      |3.0       |[0.2650907169238167,0.13844842107457828,0.2862566158994425,0.31020424610216246]  |\n",
            "|1.0      |2.0       |[0.2802324574273213,0.15010172307055275,0.29309340923472327,0.27657241026740265] |\n",
            "|2.0      |2.0       |[0.13379876129682833,0.049267432301251364,0.5501041177502527,0.26682968865166756]|\n",
            "|2.0      |2.0       |[0.12908070500995436,0.045833485379495734,0.5627605804357472,0.2623252291748027] |\n",
            "|3.0      |3.0       |[0.26814838925639356,0.14110230324534673,0.23453606483429318,0.3562132426639664] |\n",
            "+---------+----------+---------------------------------------------------------------------------------+\n",
            "only showing top 20 rows\n",
            "\n",
            "Matriz de confusão\n",
            "+---------+----------+-----+\n",
            "|class_idx|prediction|count|\n",
            "+---------+----------+-----+\n",
            "|      2.0|       0.0|    2|\n",
            "|      1.0|       1.0|  507|\n",
            "|      3.0|       2.0|  271|\n",
            "|      0.0|       1.0|   57|\n",
            "|      1.0|       0.0|   77|\n",
            "|      2.0|       2.0|  595|\n",
            "|      3.0|       1.0|   43|\n",
            "|      2.0|       3.0|   73|\n",
            "|      2.0|       1.0|    5|\n",
            "|      1.0|       2.0|   49|\n",
            "|      0.0|       0.0|  301|\n",
            "|      1.0|       3.0|   38|\n",
            "|      0.0|       2.0|  153|\n",
            "|      3.0|       3.0|  292|\n",
            "|      0.0|       3.0|  156|\n",
            "|      3.0|       0.0|   92|\n",
            "+---------+----------+-----+\n",
            "\n",
            "Precision: 0.64\n",
            "Recall: 0.63\n"
          ]
        }
      ]
    },
    {
      "cell_type": "markdown",
      "source": [
        "#4. Conclusão\n",
        "\n",
        "\n",
        "---\n",
        "\n",
        "Podemos observar que o `RandomForestClassifier` foi o classificador que atingiu 64% de precisão. Com isto, podemos concluir que foi o melhor método de classificação para este conjunto de dados. \n",
        "\n",
        "Este dataset precisou passar por alguns ajustes tais como a indexação das colunas (\"*gender*\" e \"*class*\") pois para a vetorização e para treinamento dos modelos, colunas do tipo `string` não são aceitas.\n",
        "\n"
      ],
      "metadata": {
        "id": "0wDHlRDaDyLe"
      }
    }
  ]
}