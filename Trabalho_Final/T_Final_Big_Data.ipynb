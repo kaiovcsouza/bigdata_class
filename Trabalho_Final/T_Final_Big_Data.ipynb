{
  "nbformat": 4,
  "nbformat_minor": 0,
  "metadata": {
    "colab": {
      "name": "T_Final - Big Data.ipynb",
      "provenance": [],
      "collapsed_sections": []
    },
    "kernelspec": {
      "name": "python3",
      "display_name": "Python 3"
    },
    "language_info": {
      "name": "python"
    },
    "accelerator": "GPU"
  },
  "cells": [
    {
      "cell_type": "markdown",
      "source": [
        "# **Projeto de Disciplina**\n",
        "## Big Data e Processamento Distribuído \n",
        "---\n",
        "### **Aluno**: Kaio Vinícius Cândido de Souza\n",
        "---\n",
        "# **Dataset**\n",
        "### **Dataset Utilizado**: ([Body performance Data](https://www.kaggle.com/kukuroo3/body-performance-data)) disponibilizado pelo Kaggle.\n",
        "\n",
        "### **Descrição**: O foco deste dataset é avaliar a performance física de pessoas. A performance da pessoa é medida atráves de métricas de aptidão física e é classificada de A até D, sendo A a maior classificação.\n",
        "\n",
        "### **Campos do Dataset**\n",
        "1. **Age** : (Idade)\n",
        "2. **Gender** : (Sexo)\n",
        "3. **height_cm**  : (Altura em centímetros)\n",
        "4. **weight_kg** : (Peso em quilos)\n",
        "5. **body fat_%**: (Percentual de gordura corporal)\n",
        "6. **diastolic** : (Pressão sanguínea diastólica por minuto)\n",
        "7. **systolic** : (Pressão arterial sistólica)\n",
        "8. **gripForce** : (Força de aperto)\n",
        "9. **sit and bend forward_cm** : (Envergadura da posição sentada até a ponta dos pés)\n",
        "10. **sit-ups counts** : (Quantidade de  abdominais feitos)\n",
        "11. **broad jump_cm** : (Distância do salto em centímetros)\n",
        "12. **class** : (Classificação - A,B,C,D)\n",
        "\n",
        "---\n",
        "### **Justificativa e Objetivo**\n",
        "##### Este dataset foi escolhido com o intuito de criar um algorítmo de aprendizagem capaz de classificar a performance física do indivíduo com base nas informações fornecidas a ele. A classificação varia de A a D, sendo A a melhor classificação. O objetivo é realizar um ciclo de análise de ciência de dados completos utilizando o Spark.\n",
        "\n",
        "\n"
      ],
      "metadata": {
        "id": "GzDDLN6MCp-O"
      }
    },
    {
      "cell_type": "code",
      "execution_count": 1,
      "metadata": {
        "id": "DNE2wtCz6aBL"
      },
      "outputs": [],
      "source": [
        "!apt-get install openjdk-8-jdk-headless -qq > /dev/null\n",
        "!wget -q https://archive.apache.org/dist/spark/spark-3.2.0/spark-3.2.0-bin-hadoop3.2.tgz\n",
        "!tar xf spark-3.2.0-bin-hadoop3.2.tgz\n",
        "!pip install -q findspark"
      ]
    },
    {
      "cell_type": "markdown",
      "source": [
        "## 1. Setup do Projeto"
      ],
      "metadata": {
        "id": "MZIFm4VQFgf7"
      }
    },
    {
      "cell_type": "code",
      "source": [
        "import findspark\n",
        "findspark.init('spark-3.2.0-bin-hadoop3.2')\n",
        "\n",
        "import pyspark\n",
        "from pyspark.sql import SparkSession\n",
        "from pyspark.ml.feature import StringIndexer, VectorAssembler, OneHotEncoder, Bucketizer\n",
        "from pyspark.sql.functions import col\n",
        "import matplotlib.pyplot as plt\n",
        "import numpy as np\n",
        "\n",
        "from pyspark.ml.classification import DecisionTreeClassifier, RandomForestClassifier, GBTClassifier\n",
        "\n",
        "from pyspark.ml.evaluation import RegressionEvaluator, MulticlassClassificationEvaluator, BinaryClassificationEvaluator\n",
        "spark = SparkSession.builder.getOrCreate()\n",
        "\n",
        "print(spark)"
      ],
      "metadata": {
        "colab": {
          "base_uri": "https://localhost:8080/"
        },
        "id": "zBPrViPj7OEL",
        "outputId": "45f9ab2b-25c3-47fa-bd60-3f7efb3dae2c"
      },
      "execution_count": 2,
      "outputs": [
        {
          "output_type": "stream",
          "name": "stdout",
          "text": [
            "<pyspark.sql.session.SparkSession object at 0x7fe1cbec40d0>\n"
          ]
        }
      ]
    },
    {
      "cell_type": "markdown",
      "source": [
        "## 2. Análise e Exploração de dados"
      ],
      "metadata": {
        "id": "bqGqorqKFucw"
      }
    },
    {
      "cell_type": "code",
      "source": [
        "df = spark.read.csv('/content/bodyPerformance.csv', header=True, inferSchema=True, nullValue='NA')\n",
        "\n",
        "body_performance_df = df.withColumnRenamed(\"body fat_%\",\"body_fat\").withColumnRenamed(\"sit and bend forward_cm\",\"sit_bend_forward\").withColumnRenamed(\"sit-ups counts\",\"sit_ups_counts\").withColumnRenamed(\"broad jump_cm\",\"broad_jump_cm\")\n",
        "                        "
      ],
      "metadata": {
        "id": "KPUTpbwk7TsU"
      },
      "execution_count": 3,
      "outputs": []
    },
    {
      "cell_type": "code",
      "source": [
        "body_performance_df.show(10)\n",
        "body_performance_df.createOrReplaceTempView(\"body_performance\")"
      ],
      "metadata": {
        "colab": {
          "base_uri": "https://localhost:8080/"
        },
        "id": "ypJ6xlrK9rPV",
        "outputId": "decf0a2c-bc80-49d2-ddc3-48d8c136d12a"
      },
      "execution_count": 4,
      "outputs": [
        {
          "output_type": "stream",
          "name": "stdout",
          "text": [
            "+----+------+---------+---------+--------+---------+--------+---------+----------------+--------------+-------------+-----+\n",
            "| age|gender|height_cm|weight_kg|body_fat|diastolic|systolic|gripForce|sit_bend_forward|sit_ups_counts|broad_jump_cm|class|\n",
            "+----+------+---------+---------+--------+---------+--------+---------+----------------+--------------+-------------+-----+\n",
            "|27.0|     M|    172.3|    75.24|    21.3|     80.0|   130.0|     54.9|            18.4|          60.0|        217.0|    C|\n",
            "|25.0|     M|    165.0|     55.8|    15.7|     77.0|   126.0|     36.4|            16.3|          53.0|        229.0|    A|\n",
            "|31.0|     M|    179.6|     78.0|    20.1|     92.0|   152.0|     44.8|            12.0|          49.0|        181.0|    C|\n",
            "|32.0|     M|    174.5|     71.1|    18.4|     76.0|   147.0|     41.4|            15.2|          53.0|        219.0|    B|\n",
            "|28.0|     M|    173.8|     67.7|    17.1|     70.0|   127.0|     43.5|            27.1|          45.0|        217.0|    B|\n",
            "|36.0|     F|    165.4|     55.4|    22.0|     64.0|   119.0|     23.8|            21.0|          27.0|        153.0|    B|\n",
            "|42.0|     F|    164.5|     63.7|    32.2|     72.0|   135.0|     22.7|             0.8|          18.0|        146.0|    D|\n",
            "|33.0|     M|    174.9|     77.2|    36.9|     84.0|   137.0|     45.9|            12.3|          42.0|        234.0|    B|\n",
            "|54.0|     M|    166.8|     67.5|    27.6|     85.0|   165.0|     40.4|            18.6|          34.0|        148.0|    C|\n",
            "|28.0|     M|    185.0|     84.6|    14.4|     81.0|   156.0|     57.9|            12.1|          55.0|        213.0|    B|\n",
            "+----+------+---------+---------+--------+---------+--------+---------+----------------+--------------+-------------+-----+\n",
            "only showing top 10 rows\n",
            "\n"
          ]
        }
      ]
    },
    {
      "cell_type": "markdown",
      "source": [
        "####Esta é a base do nosso dataset, temos 4 classes que representam a \"performance\" de aptidão física de A a D sendo A a melhor classificação. O intuito é modelar os dados para que possamos treinar um modelo que classifique a performance de um ser humano baseado em sua aptidão física.\n",
        "\n",
        "#### Será utilizado a função createOrReplaceTempView para criar uma visão temporária do dataframe como se fosse uma tabela de banco de dados, assim será possível utilizar o SQL e explorar os dados de uma maneira mais livre."
      ],
      "metadata": {
        "id": "R1Bvf7hgG_SP"
      }
    },
    {
      "cell_type": "code",
      "source": [
        "histograma = spark.sql(\n",
        "                       \"SELECT height_cm as Altura, weight_kg as Peso, body_fat as Gordura_Corporal, diastolic as Pressao_arterial_distolica, systolic as Pressao_arterial_sistolica, gripForce as Forca_aperto, sit_bend_forward as Envergadura_ponta_dos_pes, sit_ups_counts as Abdominal, broad_jump_cm as Distancia_Salto FROM body_performance\"\n",
        "                       ).toPandas()\n",
        "histograma[histograma.columns].hist(color=\"c\",figsize=(20,15))\n",
        "plt.show()"
      ],
      "metadata": {
        "colab": {
          "base_uri": "https://localhost:8080/",
          "height": 879
        },
        "id": "YfFQAKg8hh8z",
        "outputId": "28c8248e-b92d-4b9f-fbcc-6e7fdd6e84bc"
      },
      "execution_count": 5,
      "outputs": [
        {
          "output_type": "display_data",
          "data": {
            "text/plain": [
              "<Figure size 1440x1080 with 9 Axes>"
            ],
            "image/png": "[encoded data removed]"
          },
          "metadata": {
            "needs_background": "light"
          }
        }
      ]
    },
    {
      "cell_type": "markdown",
      "source": [
        "#### De acordo com o histograma acima podemos observar que:\n",
        "\n",
        "1.   A altura das pessoas análisadas varia de 1,25 a 1,95 metros de altura\n",
        "2.   A variação do peso das pessoas vão de 25 a 130 quilos.\n",
        "3.   O percentual de gordura das pessoas avaliadas varia entre 5% a 60%.\n",
        "4.   A pressão arterial distólica está dentro da faixa de 0 mmHg a 110 mmHg.\n",
        "5.   Pressão arterial sistólica está dentro da faixa de 0 mmHg a 160 mmHg.\n",
        "6.   A força de aperto está na faixa de 0 a 70\n",
        "7.   Os resultados dos testes de envergadura da posição sentada até a ponta dos pés estão na faixa de -25 cm a 49 cm.\n",
        "8.   Contagem de abdominais variam de 0 a 80.\n",
        "9.   Distância de saltos variam de 0 a 300 cm\n",
        "\n",
        "\n",
        "\n"
      ],
      "metadata": {
        "id": "KolzotgdjeMe"
      }
    },
    {
      "cell_type": "code",
      "source": [
        "gender_qtd = spark.sql(\n",
        "    \"SELECT CASE WHEN gender = 'F' THEN 'Feminino' ELSE 'Masculino' END as gender, count(*) as qtd FROM body_performance GROUP BY gender\"\n",
        "    ).toPandas()\n",
        "gender_qtd"
      ],
      "metadata": {
        "colab": {
          "base_uri": "https://localhost:8080/",
          "height": 112
        },
        "id": "TSqg8qgv6uTl",
        "outputId": "dc9b02c4-c818-4013-fceb-b2f40b8e3091"
      },
      "execution_count": 6,
      "outputs": [
        {
          "output_type": "execute_result",
          "data": {
            "text/plain": [
              "      gender   qtd\n",
              "0   Feminino  4926\n",
              "1  Masculino  8467"
            ],
            "text/html": [
              "\n",
              "  <div id=\"df-23b790b5-08df-4550-b0d2-acbddaf6336f\">\n",
              "    <div class=\"colab-df-container\">\n",
              "      <div>\n",
              "<style scoped>\n",
              "    .dataframe tbody tr th:only-of-type {\n",
              "        vertical-align: middle;\n",
              "    }\n",
              "\n",
              "    .dataframe tbody tr th {\n",
              "        vertical-align: top;\n",
              "    }\n",
              "\n",
              "    .dataframe thead th {\n",
              "        text-align: right;\n",
              "    }\n",
              "</style>\n",
              "<table border=\"1\" class=\"dataframe\">\n",
              "  <thead>\n",
              "    <tr style=\"text-align: right;\">\n",
              "      <th></th>\n",
              "      <th>gender</th>\n",
              "      <th>qtd</th>\n",
              "    </tr>\n",
              "  </thead>\n",
              "  <tbody>\n",
              "    <tr>\n",
              "      <th>0</th>\n",
              "      <td>Feminino</td>\n",
              "      <td>4926</td>\n",
              "    </tr>\n",
              "    <tr>\n",
              "      <th>1</th>\n",
              "      <td>Masculino</td>\n",
              "      <td>8467</td>\n",
              "    </tr>\n",
              "  </tbody>\n",
              "</table>\n",
              "</div>\n",
              "      <button class=\"colab-df-convert\" onclick=\"convertToInteractive('df-23b790b5-08df-4550-b0d2-acbddaf6336f')\"\n",
              "              title=\"Convert this dataframe to an interactive table.\"\n",
              "              style=\"display:none;\">\n",
              "        \n",
              "  <svg xmlns=\"http://www.w3.org/2000/svg\" height=\"24px\"viewBox=\"0 0 24 24\"\n",
              "       width=\"24px\">\n",
              "    <path d=\"M0 0h24v24H0V0z\" fill=\"none\"/>\n",
              "    <path d=\"M18.56 5.44l.94 2.06.94-2.06 2.06-.94-2.06-.94-.94-2.06-.94 2.06-2.06.94zm-11 1L8.5 8.5l.94-2.06 2.06-.94-2.06-.94L8.5 2.5l-.94 2.06-2.06.94zm10 10l.94 2.06.94-2.06 2.06-.94-2.06-.94-.94-2.06-.94 2.06-2.06.94z\"/><path d=\"M17.41 7.96l-1.37-1.37c-.4-.4-.92-.59-1.43-.59-.52 0-1.04.2-1.43.59L10.3 9.45l-7.72 7.72c-.78.78-.78 2.05 0 2.83L4 21.41c.39.39.9.59 1.41.59.51 0 1.02-.2 1.41-.59l7.78-7.78 2.81-2.81c.8-.78.8-2.07 0-2.86zM5.41 20L4 18.59l7.72-7.72 1.47 1.35L5.41 20z\"/>\n",
              "  </svg>\n",
              "      </button>\n",
              "      \n",
              "  <style>\n",
              "    .colab-df-container {\n",
              "      display:flex;\n",
              "      flex-wrap:wrap;\n",
              "      gap: 12px;\n",
              "    }\n",
              "\n",
              "    .colab-df-convert {\n",
              "      background-color: #E8F0FE;\n",
              "      border: none;\n",
              "      border-radius: 50%;\n",
              "      cursor: pointer;\n",
              "      display: none;\n",
              "      fill: #1967D2;\n",
              "      height: 32px;\n",
              "      padding: 0 0 0 0;\n",
              "      width: 32px;\n",
              "    }\n",
              "\n",
              "    .colab-df-convert:hover {\n",
              "      background-color: #E2EBFA;\n",
              "      box-shadow: 0px 1px 2px rgba(60, 64, 67, 0.3), 0px 1px 3px 1px rgba(60, 64, 67, 0.15);\n",
              "      fill: #174EA6;\n",
              "    }\n",
              "\n",
              "    [theme=dark] .colab-df-convert {\n",
              "      background-color: #3B4455;\n",
              "      fill: #D2E3FC;\n",
              "    }\n",
              "\n",
              "    [theme=dark] .colab-df-convert:hover {\n",
              "      background-color: #434B5C;\n",
              "      box-shadow: 0px 1px 3px 1px rgba(0, 0, 0, 0.15);\n",
              "      filter: drop-shadow(0px 1px 2px rgba(0, 0, 0, 0.3));\n",
              "      fill: #FFFFFF;\n",
              "    }\n",
              "  </style>\n",
              "\n",
              "      <script>\n",
              "        const buttonEl =\n",
              "          document.querySelector('#df-23b790b5-08df-4550-b0d2-acbddaf6336f button.colab-df-convert');\n",
              "        buttonEl.style.display =\n",
              "          google.colab.kernel.accessAllowed ? 'block' : 'none';\n",
              "\n",
              "        async function convertToInteractive(key) {\n",
              "          const element = document.querySelector('#df-23b790b5-08df-4550-b0d2-acbddaf6336f');\n",
              "          const dataTable =\n",
              "            await google.colab.kernel.invokeFunction('convertToInteractive',\n",
              "                                                     [key], {});\n",
              "          if (!dataTable) return;\n",
              "\n",
              "          const docLinkHtml = 'Like what you see? Visit the ' +\n",
              "            '<a target=\"_blank\" href=https://colab.research.google.com/notebooks/data_table.ipynb>data table notebook</a>'\n",
              "            + ' to learn more about interactive tables.';\n",
              "          element.innerHTML = '';\n",
              "          dataTable['output_type'] = 'display_data';\n",
              "          await google.colab.output.renderOutput(dataTable, element);\n",
              "          const docLink = document.createElement('div');\n",
              "          docLink.innerHTML = docLinkHtml;\n",
              "          element.appendChild(docLink);\n",
              "        }\n",
              "      </script>\n",
              "    </div>\n",
              "  </div>\n",
              "  "
            ]
          },
          "metadata": {},
          "execution_count": 6
        }
      ]
    },
    {
      "cell_type": "code",
      "source": [
        "x = gender_qtd['gender']\n",
        "y = gender_qtd['qtd']\n",
        "\n",
        "fig, ax = plt.subplots(figsize=(10,8))\n",
        "\n",
        "ax.bar(x, y, width=1, edgecolor=\"white\", color=['hotpink','lightskyblue'], linewidth=0.7)\n",
        "\n",
        "ax.set_title('Pessoas analisadas por sexo')\n",
        "ax.set_xlabel('Gênero')\n",
        "ax.yaxis.set_ticks(np.arange(0, 9000, 500))\n",
        "ax.set_ylabel('Quantidade')\n",
        "\n",
        "plt.show()"
      ],
      "metadata": {
        "colab": {
          "base_uri": "https://localhost:8080/",
          "height": 513
        },
        "id": "fsC0zyTuD_RT",
        "outputId": "a989fa89-de3f-44c7-9f19-eeffb66aae82"
      },
      "execution_count": 7,
      "outputs": [
        {
          "output_type": "display_data",
          "data": {
            "text/plain": [
              "<Figure size 720x576 with 1 Axes>"
            ],
            "image/png": "[encoded data removed]"
          },
          "metadata": {
            "needs_background": "light"
          }
        }
      ]
    },
    {
      "cell_type": "markdown",
      "source": [
        "####Conforme podemos ver o gráfico acima, é possível observar que neste conjunto de dados pessoas do sexo masculino foram as mais analisadas."
      ],
      "metadata": {
        "id": "ENoZKGy6VnDT"
      }
    },
    {
      "cell_type": "code",
      "source": [
        "distr_classe = spark.sql(\"SELECT class, count(*) as qtd FROM body_performance GROUP BY class\").toPandas()\n",
        "distr_classe"
      ],
      "metadata": {
        "colab": {
          "base_uri": "https://localhost:8080/",
          "height": 174
        },
        "id": "cEAs6LWHoExF",
        "outputId": "b6438408-5132-4a36-894a-72557d45fa02"
      },
      "execution_count": 8,
      "outputs": [
        {
          "output_type": "execute_result",
          "data": {
            "text/plain": [
              "  class   qtd\n",
              "0     B  3347\n",
              "1     D  3349\n",
              "2     C  3349\n",
              "3     A  3348"
            ],
            "text/html": [
              "\n",
              "  <div id=\"df-102fa55f-f00f-46a5-bd3c-0300cb9b786f\">\n",
              "    <div class=\"colab-df-container\">\n",
              "      <div>\n",
              "<style scoped>\n",
              "    .dataframe tbody tr th:only-of-type {\n",
              "        vertical-align: middle;\n",
              "    }\n",
              "\n",
              "    .dataframe tbody tr th {\n",
              "        vertical-align: top;\n",
              "    }\n",
              "\n",
              "    .dataframe thead th {\n",
              "        text-align: right;\n",
              "    }\n",
              "</style>\n",
              "<table border=\"1\" class=\"dataframe\">\n",
              "  <thead>\n",
              "    <tr style=\"text-align: right;\">\n",
              "      <th></th>\n",
              "      <th>class</th>\n",
              "      <th>qtd</th>\n",
              "    </tr>\n",
              "  </thead>\n",
              "  <tbody>\n",
              "    <tr>\n",
              "      <th>0</th>\n",
              "      <td>B</td>\n",
              "      <td>3347</td>\n",
              "    </tr>\n",
              "    <tr>\n",
              "      <th>1</th>\n",
              "      <td>D</td>\n",
              "      <td>3349</td>\n",
              "    </tr>\n",
              "    <tr>\n",
              "      <th>2</th>\n",
              "      <td>C</td>\n",
              "      <td>3349</td>\n",
              "    </tr>\n",
              "    <tr>\n",
              "      <th>3</th>\n",
              "      <td>A</td>\n",
              "      <td>3348</td>\n",
              "    </tr>\n",
              "  </tbody>\n",
              "</table>\n",
              "</div>\n",
              "      <button class=\"colab-df-convert\" onclick=\"convertToInteractive('df-102fa55f-f00f-46a5-bd3c-0300cb9b786f')\"\n",
              "              title=\"Convert this dataframe to an interactive table.\"\n",
              "              style=\"display:none;\">\n",
              "        \n",
              "  <svg xmlns=\"http://www.w3.org/2000/svg\" height=\"24px\"viewBox=\"0 0 24 24\"\n",
              "       width=\"24px\">\n",
              "    <path d=\"M0 0h24v24H0V0z\" fill=\"none\"/>\n",
              "    <path d=\"M18.56 5.44l.94 2.06.94-2.06 2.06-.94-2.06-.94-.94-2.06-.94 2.06-2.06.94zm-11 1L8.5 8.5l.94-2.06 2.06-.94-2.06-.94L8.5 2.5l-.94 2.06-2.06.94zm10 10l.94 2.06.94-2.06 2.06-.94-2.06-.94-.94-2.06-.94 2.06-2.06.94z\"/><path d=\"M17.41 7.96l-1.37-1.37c-.4-.4-.92-.59-1.43-.59-.52 0-1.04.2-1.43.59L10.3 9.45l-7.72 7.72c-.78.78-.78 2.05 0 2.83L4 21.41c.39.39.9.59 1.41.59.51 0 1.02-.2 1.41-.59l7.78-7.78 2.81-2.81c.8-.78.8-2.07 0-2.86zM5.41 20L4 18.59l7.72-7.72 1.47 1.35L5.41 20z\"/>\n",
              "  </svg>\n",
              "      </button>\n",
              "      \n",
              "  <style>\n",
              "    .colab-df-container {\n",
              "      display:flex;\n",
              "      flex-wrap:wrap;\n",
              "      gap: 12px;\n",
              "    }\n",
              "\n",
              "    .colab-df-convert {\n",
              "      background-color: #E8F0FE;\n",
              "      border: none;\n",
              "      border-radius: 50%;\n",
              "      cursor: pointer;\n",
              "      display: none;\n",
              "      fill: #1967D2;\n",
              "      height: 32px;\n",
              "      padding: 0 0 0 0;\n",
              "      width: 32px;\n",
              "    }\n",
              "\n",
              "    .colab-df-convert:hover {\n",
              "      background-color: #E2EBFA;\n",
              "      box-shadow: 0px 1px 2px rgba(60, 64, 67, 0.3), 0px 1px 3px 1px rgba(60, 64, 67, 0.15);\n",
              "      fill: #174EA6;\n",
              "    }\n",
              "\n",
              "    [theme=dark] .colab-df-convert {\n",
              "      background-color: #3B4455;\n",
              "      fill: #D2E3FC;\n",
              "    }\n",
              "\n",
              "    [theme=dark] .colab-df-convert:hover {\n",
              "      background-color: #434B5C;\n",
              "      box-shadow: 0px 1px 3px 1px rgba(0, 0, 0, 0.15);\n",
              "      filter: drop-shadow(0px 1px 2px rgba(0, 0, 0, 0.3));\n",
              "      fill: #FFFFFF;\n",
              "    }\n",
              "  </style>\n",
              "\n",
              "      <script>\n",
              "        const buttonEl =\n",
              "          document.querySelector('#df-102fa55f-f00f-46a5-bd3c-0300cb9b786f button.colab-df-convert');\n",
              "        buttonEl.style.display =\n",
              "          google.colab.kernel.accessAllowed ? 'block' : 'none';\n",
              "\n",
              "        async function convertToInteractive(key) {\n",
              "          const element = document.querySelector('#df-102fa55f-f00f-46a5-bd3c-0300cb9b786f');\n",
              "          const dataTable =\n",
              "            await google.colab.kernel.invokeFunction('convertToInteractive',\n",
              "                                                     [key], {});\n",
              "          if (!dataTable) return;\n",
              "\n",
              "          const docLinkHtml = 'Like what you see? Visit the ' +\n",
              "            '<a target=\"_blank\" href=https://colab.research.google.com/notebooks/data_table.ipynb>data table notebook</a>'\n",
              "            + ' to learn more about interactive tables.';\n",
              "          element.innerHTML = '';\n",
              "          dataTable['output_type'] = 'display_data';\n",
              "          await google.colab.output.renderOutput(dataTable, element);\n",
              "          const docLink = document.createElement('div');\n",
              "          docLink.innerHTML = docLinkHtml;\n",
              "          element.appendChild(docLink);\n",
              "        }\n",
              "      </script>\n",
              "    </div>\n",
              "  </div>\n",
              "  "
            ]
          },
          "metadata": {},
          "execution_count": 8
        }
      ]
    },
    {
      "cell_type": "code",
      "source": [
        "x = distr_classe['class']\n",
        "y = distr_classe['qtd']\n",
        "\n",
        "fig, ax = plt.subplots(figsize=(10,8))\n",
        "\n",
        "ax.bar(x, y, width=1, edgecolor=\"white\", linewidth=0.7)\n",
        "\n",
        "ax.set_title('Distribuição das classes')\n",
        "ax.set_xlabel('Classes')\n",
        "ax.yaxis.set_ticks(np.arange(0, 3600, 200))\n",
        "ax.set_ylabel('Quantidade')\n",
        "\n",
        "plt.show()"
      ],
      "metadata": {
        "colab": {
          "base_uri": "https://localhost:8080/",
          "height": 513
        },
        "id": "ZKpe8PAmmmlq",
        "outputId": "a1a0c473-87df-4aa9-8b64-179bd292f42a"
      },
      "execution_count": 9,
      "outputs": [
        {
          "output_type": "display_data",
          "data": {
            "text/plain": [
              "<Figure size 720x576 with 1 Axes>"
            ],
            "image/png": "[encoded data removed]"
          },
          "metadata": {
            "needs_background": "light"
          }
        }
      ]
    },
    {
      "cell_type": "markdown",
      "source": [
        "#### O grafico de distribuição de classe nos diz que a distribuição está bem equivalente entre A, B, C e D."
      ],
      "metadata": {
        "id": "2qNV5nCfoJsW"
      }
    },
    {
      "cell_type": "code",
      "source": [
        "age_qtd = spark.sql(\"SELECT age, count(*) as qtd FROM body_performance GROUP BY age ORDER BY age ASC\").toPandas()"
      ],
      "metadata": {
        "id": "FlhjkanL0b69"
      },
      "execution_count": 10,
      "outputs": []
    },
    {
      "cell_type": "code",
      "source": [
        "x = age_qtd['age']\n",
        "y = age_qtd['qtd']\n",
        "\n",
        "fig, ax = plt.subplots(figsize=(20,10))\n",
        "\n",
        "ax.bar(x, y, width=1, edgecolor=\"white\", linewidth=0.7)\n",
        "\n",
        "ax.set_title('Pessoas analisadas por Idade')\n",
        "ax.xaxis.set_ticks(np.arange(21, 65, 1))\n",
        "ax.set_xlabel('Faixa etária')\n",
        "ax.yaxis.set_ticks(np.arange(0, 1100, 50))\n",
        "ax.set_ylabel('Quantidade')\n",
        "\n",
        "plt.show()"
      ],
      "metadata": {
        "colab": {
          "base_uri": "https://localhost:8080/",
          "height": 621
        },
        "id": "WfV_V3MMW_JF",
        "outputId": "bf4f0765-5fd1-4013-dbd9-66848c0b97a7"
      },
      "execution_count": 11,
      "outputs": [
        {
          "output_type": "display_data",
          "data": {
            "text/plain": [
              "<Figure size 1440x720 with 1 Axes>"
            ],
            "image/png": "[encoded data removed]"
          },
          "metadata": {
            "needs_background": "light"
          }
        }
      ]
    },
    {
      "cell_type": "markdown",
      "source": [
        "####Podemos ver também que a faixa etária entre 21 a 32 anos foi a faixa etária com maior número de análises. Em seguida veremos a faixa etária por gênero.\n",
        "\n"
      ],
      "metadata": {
        "id": "IfKKS8gQYEE5"
      }
    },
    {
      "cell_type": "code",
      "source": [
        "gender_age_qtd = spark.sql(\n",
        "    \"SELECT CASE WHEN gender = 'F' THEN 'Feminino' ELSE 'Masculino' END as gender, age, count(*) as qtd FROM body_performance GROUP BY gender, age ORDER BY age ASC\"\n",
        "    ).toPandas()\n",
        "gender_age_qtd"
      ],
      "metadata": {
        "colab": {
          "base_uri": "https://localhost:8080/",
          "height": 423
        },
        "id": "Y4hTR-3eYDJm",
        "outputId": "800c78cf-ba93-4170-aa99-d7f88c5a6e90"
      },
      "execution_count": 12,
      "outputs": [
        {
          "output_type": "execute_result",
          "data": {
            "text/plain": [
              "       gender   age  qtd\n",
              "0   Masculino  21.0  558\n",
              "1    Feminino  21.0  406\n",
              "2    Feminino  22.0  327\n",
              "3   Masculino  22.0  462\n",
              "4    Feminino  23.0  282\n",
              "..        ...   ...  ...\n",
              "83   Feminino  62.0  118\n",
              "84  Masculino  63.0  147\n",
              "85   Feminino  63.0   83\n",
              "86   Feminino  64.0  100\n",
              "87  Masculino  64.0  115\n",
              "\n",
              "[88 rows x 3 columns]"
            ],
            "text/html": [
              "\n",
              "  <div id=\"df-9750af64-0fd7-46ad-8302-a8f67fe170bc\">\n",
              "    <div class=\"colab-df-container\">\n",
              "      <div>\n",
              "<style scoped>\n",
              "    .dataframe tbody tr th:only-of-type {\n",
              "        vertical-align: middle;\n",
              "    }\n",
              "\n",
              "    .dataframe tbody tr th {\n",
              "        vertical-align: top;\n",
              "    }\n",
              "\n",
              "    .dataframe thead th {\n",
              "        text-align: right;\n",
              "    }\n",
              "</style>\n",
              "<table border=\"1\" class=\"dataframe\">\n",
              "  <thead>\n",
              "    <tr style=\"text-align: right;\">\n",
              "      <th></th>\n",
              "      <th>gender</th>\n",
              "      <th>age</th>\n",
              "      <th>qtd</th>\n",
              "    </tr>\n",
              "  </thead>\n",
              "  <tbody>\n",
              "    <tr>\n",
              "      <th>0</th>\n",
              "      <td>Masculino</td>\n",
              "      <td>21.0</td>\n",
              "      <td>558</td>\n",
              "    </tr>\n",
              "    <tr>\n",
              "      <th>1</th>\n",
              "      <td>Feminino</td>\n",
              "      <td>21.0</td>\n",
              "      <td>406</td>\n",
              "    </tr>\n",
              "    <tr>\n",
              "      <th>2</th>\n",
              "      <td>Feminino</td>\n",
              "      <td>22.0</td>\n",
              "      <td>327</td>\n",
              "    </tr>\n",
              "    <tr>\n",
              "      <th>3</th>\n",
              "      <td>Masculino</td>\n",
              "      <td>22.0</td>\n",
              "      <td>462</td>\n",
              "    </tr>\n",
              "    <tr>\n",
              "      <th>4</th>\n",
              "      <td>Feminino</td>\n",
              "      <td>23.0</td>\n",
              "      <td>282</td>\n",
              "    </tr>\n",
              "    <tr>\n",
              "      <th>...</th>\n",
              "      <td>...</td>\n",
              "      <td>...</td>\n",
              "      <td>...</td>\n",
              "    </tr>\n",
              "    <tr>\n",
              "      <th>83</th>\n",
              "      <td>Feminino</td>\n",
              "      <td>62.0</td>\n",
              "      <td>118</td>\n",
              "    </tr>\n",
              "    <tr>\n",
              "      <th>84</th>\n",
              "      <td>Masculino</td>\n",
              "      <td>63.0</td>\n",
              "      <td>147</td>\n",
              "    </tr>\n",
              "    <tr>\n",
              "      <th>85</th>\n",
              "      <td>Feminino</td>\n",
              "      <td>63.0</td>\n",
              "      <td>83</td>\n",
              "    </tr>\n",
              "    <tr>\n",
              "      <th>86</th>\n",
              "      <td>Feminino</td>\n",
              "      <td>64.0</td>\n",
              "      <td>100</td>\n",
              "    </tr>\n",
              "    <tr>\n",
              "      <th>87</th>\n",
              "      <td>Masculino</td>\n",
              "      <td>64.0</td>\n",
              "      <td>115</td>\n",
              "    </tr>\n",
              "  </tbody>\n",
              "</table>\n",
              "<p>88 rows × 3 columns</p>\n",
              "</div>\n",
              "      <button class=\"colab-df-convert\" onclick=\"convertToInteractive('df-9750af64-0fd7-46ad-8302-a8f67fe170bc')\"\n",
              "              title=\"Convert this dataframe to an interactive table.\"\n",
              "              style=\"display:none;\">\n",
              "        \n",
              "  <svg xmlns=\"http://www.w3.org/2000/svg\" height=\"24px\"viewBox=\"0 0 24 24\"\n",
              "       width=\"24px\">\n",
              "    <path d=\"M0 0h24v24H0V0z\" fill=\"none\"/>\n",
              "    <path d=\"M18.56 5.44l.94 2.06.94-2.06 2.06-.94-2.06-.94-.94-2.06-.94 2.06-2.06.94zm-11 1L8.5 8.5l.94-2.06 2.06-.94-2.06-.94L8.5 2.5l-.94 2.06-2.06.94zm10 10l.94 2.06.94-2.06 2.06-.94-2.06-.94-.94-2.06-.94 2.06-2.06.94z\"/><path d=\"M17.41 7.96l-1.37-1.37c-.4-.4-.92-.59-1.43-.59-.52 0-1.04.2-1.43.59L10.3 9.45l-7.72 7.72c-.78.78-.78 2.05 0 2.83L4 21.41c.39.39.9.59 1.41.59.51 0 1.02-.2 1.41-.59l7.78-7.78 2.81-2.81c.8-.78.8-2.07 0-2.86zM5.41 20L4 18.59l7.72-7.72 1.47 1.35L5.41 20z\"/>\n",
              "  </svg>\n",
              "      </button>\n",
              "      \n",
              "  <style>\n",
              "    .colab-df-container {\n",
              "      display:flex;\n",
              "      flex-wrap:wrap;\n",
              "      gap: 12px;\n",
              "    }\n",
              "\n",
              "    .colab-df-convert {\n",
              "      background-color: #E8F0FE;\n",
              "      border: none;\n",
              "      border-radius: 50%;\n",
              "      cursor: pointer;\n",
              "      display: none;\n",
              "      fill: #1967D2;\n",
              "      height: 32px;\n",
              "      padding: 0 0 0 0;\n",
              "      width: 32px;\n",
              "    }\n",
              "\n",
              "    .colab-df-convert:hover {\n",
              "      background-color: #E2EBFA;\n",
              "      box-shadow: 0px 1px 2px rgba(60, 64, 67, 0.3), 0px 1px 3px 1px rgba(60, 64, 67, 0.15);\n",
              "      fill: #174EA6;\n",
              "    }\n",
              "\n",
              "    [theme=dark] .colab-df-convert {\n",
              "      background-color: #3B4455;\n",
              "      fill: #D2E3FC;\n",
              "    }\n",
              "\n",
              "    [theme=dark] .colab-df-convert:hover {\n",
              "      background-color: #434B5C;\n",
              "      box-shadow: 0px 1px 3px 1px rgba(0, 0, 0, 0.15);\n",
              "      filter: drop-shadow(0px 1px 2px rgba(0, 0, 0, 0.3));\n",
              "      fill: #FFFFFF;\n",
              "    }\n",
              "  </style>\n",
              "\n",
              "      <script>\n",
              "        const buttonEl =\n",
              "          document.querySelector('#df-9750af64-0fd7-46ad-8302-a8f67fe170bc button.colab-df-convert');\n",
              "        buttonEl.style.display =\n",
              "          google.colab.kernel.accessAllowed ? 'block' : 'none';\n",
              "\n",
              "        async function convertToInteractive(key) {\n",
              "          const element = document.querySelector('#df-9750af64-0fd7-46ad-8302-a8f67fe170bc');\n",
              "          const dataTable =\n",
              "            await google.colab.kernel.invokeFunction('convertToInteractive',\n",
              "                                                     [key], {});\n",
              "          if (!dataTable) return;\n",
              "\n",
              "          const docLinkHtml = 'Like what you see? Visit the ' +\n",
              "            '<a target=\"_blank\" href=https://colab.research.google.com/notebooks/data_table.ipynb>data table notebook</a>'\n",
              "            + ' to learn more about interactive tables.';\n",
              "          element.innerHTML = '';\n",
              "          dataTable['output_type'] = 'display_data';\n",
              "          await google.colab.output.renderOutput(dataTable, element);\n",
              "          const docLink = document.createElement('div');\n",
              "          docLink.innerHTML = docLinkHtml;\n",
              "          element.appendChild(docLink);\n",
              "        }\n",
              "      </script>\n",
              "    </div>\n",
              "  </div>\n",
              "  "
            ]
          },
          "metadata": {},
          "execution_count": 12
        }
      ]
    },
    {
      "cell_type": "code",
      "source": [
        "labels = age_qtd['age']\n",
        "qtd_homens = gender_age_qtd[(gender_age_qtd['gender'] == 'Masculino')]\n",
        "qtd_mulheres = gender_age_qtd[(gender_age_qtd['gender'] == 'Feminino')]\n",
        "\n",
        "width = 0.35\n",
        "\n",
        "fig, ax = plt.subplots(figsize=(23,10))\n",
        "rects1 = ax.bar(qtd_mulheres['age'] - width/2, qtd_homens['qtd'], width, label='Homens')\n",
        "rects2 = ax.bar(qtd_mulheres['age'] + width/2, qtd_mulheres['qtd'], width, label='Mulheres')\n",
        "\n",
        "ax.set_ylabel('Quantidade')\n",
        "ax.set_title('Quantidade de pessoas por faixa etária e gênero')\n",
        "ax.xaxis.set_ticks(np.arange(21, 65, 1))\n",
        "ax.yaxis.set_ticks(np.arange(0, 650, 50))\n",
        "ax.legend()\n",
        "\n",
        "fig.tight_layout()\n",
        "\n",
        "plt.show()"
      ],
      "metadata": {
        "colab": {
          "base_uri": "https://localhost:8080/",
          "height": 628
        },
        "id": "9xqHcw6NZh-D",
        "outputId": "6c5e2e40-c639-42c3-b098-c9da541ab0ee"
      },
      "execution_count": 13,
      "outputs": [
        {
          "output_type": "display_data",
          "data": {
            "text/plain": [
              "<Figure size 1656x720 with 1 Axes>"
            ],
            "image/png": "[encoded data removed]"
          },
          "metadata": {
            "needs_background": "light"
          }
        }
      ]
    },
    {
      "cell_type": "markdown",
      "source": [
        "####Neste gráfico acima podemos ver que o número de homens analisados é superior que as mulheres em qualquer faixa etária."
      ],
      "metadata": {
        "id": "7myTyR-5c4Ui"
      }
    },
    {
      "cell_type": "code",
      "source": [
        "gender_class_qtd = spark.sql(\n",
        "    \"SELECT CASE WHEN gender = 'F' THEN 'Feminino' ELSE 'Masculino' END as gender, class, count(*) as qtd FROM body_performance GROUP BY gender, class ORDER BY class ASC\"\n",
        "    ).toPandas()\n",
        "gender_class_qtd"
      ],
      "metadata": {
        "colab": {
          "base_uri": "https://localhost:8080/",
          "height": 300
        },
        "id": "U5W536KidGNq",
        "outputId": "4bf7e6e9-3570-4464-8855-a47ab792a63d"
      },
      "execution_count": 14,
      "outputs": [
        {
          "output_type": "execute_result",
          "data": {
            "text/plain": [
              "      gender class   qtd\n",
              "0  Masculino     A  1864\n",
              "1   Feminino     A  1484\n",
              "2  Masculino     B  2162\n",
              "3   Feminino     B  1185\n",
              "4  Masculino     C  2237\n",
              "5   Feminino     C  1112\n",
              "6  Masculino     D  2204\n",
              "7   Feminino     D  1145"
            ],
            "text/html": [
              "\n",
              "  <div id=\"df-812180ec-30c4-4187-8043-d38ce0233e68\">\n",
              "    <div class=\"colab-df-container\">\n",
              "      <div>\n",
              "<style scoped>\n",
              "    .dataframe tbody tr th:only-of-type {\n",
              "        vertical-align: middle;\n",
              "    }\n",
              "\n",
              "    .dataframe tbody tr th {\n",
              "        vertical-align: top;\n",
              "    }\n",
              "\n",
              "    .dataframe thead th {\n",
              "        text-align: right;\n",
              "    }\n",
              "</style>\n",
              "<table border=\"1\" class=\"dataframe\">\n",
              "  <thead>\n",
              "    <tr style=\"text-align: right;\">\n",
              "      <th></th>\n",
              "      <th>gender</th>\n",
              "      <th>class</th>\n",
              "      <th>qtd</th>\n",
              "    </tr>\n",
              "  </thead>\n",
              "  <tbody>\n",
              "    <tr>\n",
              "      <th>0</th>\n",
              "      <td>Masculino</td>\n",
              "      <td>A</td>\n",
              "      <td>1864</td>\n",
              "    </tr>\n",
              "    <tr>\n",
              "      <th>1</th>\n",
              "      <td>Feminino</td>\n",
              "      <td>A</td>\n",
              "      <td>1484</td>\n",
              "    </tr>\n",
              "    <tr>\n",
              "      <th>2</th>\n",
              "      <td>Masculino</td>\n",
              "      <td>B</td>\n",
              "      <td>2162</td>\n",
              "    </tr>\n",
              "    <tr>\n",
              "      <th>3</th>\n",
              "      <td>Feminino</td>\n",
              "      <td>B</td>\n",
              "      <td>1185</td>\n",
              "    </tr>\n",
              "    <tr>\n",
              "      <th>4</th>\n",
              "      <td>Masculino</td>\n",
              "      <td>C</td>\n",
              "      <td>2237</td>\n",
              "    </tr>\n",
              "    <tr>\n",
              "      <th>5</th>\n",
              "      <td>Feminino</td>\n",
              "      <td>C</td>\n",
              "      <td>1112</td>\n",
              "    </tr>\n",
              "    <tr>\n",
              "      <th>6</th>\n",
              "      <td>Masculino</td>\n",
              "      <td>D</td>\n",
              "      <td>2204</td>\n",
              "    </tr>\n",
              "    <tr>\n",
              "      <th>7</th>\n",
              "      <td>Feminino</td>\n",
              "      <td>D</td>\n",
              "      <td>1145</td>\n",
              "    </tr>\n",
              "  </tbody>\n",
              "</table>\n",
              "</div>\n",
              "      <button class=\"colab-df-convert\" onclick=\"convertToInteractive('df-812180ec-30c4-4187-8043-d38ce0233e68')\"\n",
              "              title=\"Convert this dataframe to an interactive table.\"\n",
              "              style=\"display:none;\">\n",
              "        \n",
              "  <svg xmlns=\"http://www.w3.org/2000/svg\" height=\"24px\"viewBox=\"0 0 24 24\"\n",
              "       width=\"24px\">\n",
              "    <path d=\"M0 0h24v24H0V0z\" fill=\"none\"/>\n",
              "    <path d=\"M18.56 5.44l.94 2.06.94-2.06 2.06-.94-2.06-.94-.94-2.06-.94 2.06-2.06.94zm-11 1L8.5 8.5l.94-2.06 2.06-.94-2.06-.94L8.5 2.5l-.94 2.06-2.06.94zm10 10l.94 2.06.94-2.06 2.06-.94-2.06-.94-.94-2.06-.94 2.06-2.06.94z\"/><path d=\"M17.41 7.96l-1.37-1.37c-.4-.4-.92-.59-1.43-.59-.52 0-1.04.2-1.43.59L10.3 9.45l-7.72 7.72c-.78.78-.78 2.05 0 2.83L4 21.41c.39.39.9.59 1.41.59.51 0 1.02-.2 1.41-.59l7.78-7.78 2.81-2.81c.8-.78.8-2.07 0-2.86zM5.41 20L4 18.59l7.72-7.72 1.47 1.35L5.41 20z\"/>\n",
              "  </svg>\n",
              "      </button>\n",
              "      \n",
              "  <style>\n",
              "    .colab-df-container {\n",
              "      display:flex;\n",
              "      flex-wrap:wrap;\n",
              "      gap: 12px;\n",
              "    }\n",
              "\n",
              "    .colab-df-convert {\n",
              "      background-color: #E8F0FE;\n",
              "      border: none;\n",
              "      border-radius: 50%;\n",
              "      cursor: pointer;\n",
              "      display: none;\n",
              "      fill: #1967D2;\n",
              "      height: 32px;\n",
              "      padding: 0 0 0 0;\n",
              "      width: 32px;\n",
              "    }\n",
              "\n",
              "    .colab-df-convert:hover {\n",
              "      background-color: #E2EBFA;\n",
              "      box-shadow: 0px 1px 2px rgba(60, 64, 67, 0.3), 0px 1px 3px 1px rgba(60, 64, 67, 0.15);\n",
              "      fill: #174EA6;\n",
              "    }\n",
              "\n",
              "    [theme=dark] .colab-df-convert {\n",
              "      background-color: #3B4455;\n",
              "      fill: #D2E3FC;\n",
              "    }\n",
              "\n",
              "    [theme=dark] .colab-df-convert:hover {\n",
              "      background-color: #434B5C;\n",
              "      box-shadow: 0px 1px 3px 1px rgba(0, 0, 0, 0.15);\n",
              "      filter: drop-shadow(0px 1px 2px rgba(0, 0, 0, 0.3));\n",
              "      fill: #FFFFFF;\n",
              "    }\n",
              "  </style>\n",
              "\n",
              "      <script>\n",
              "        const buttonEl =\n",
              "          document.querySelector('#df-812180ec-30c4-4187-8043-d38ce0233e68 button.colab-df-convert');\n",
              "        buttonEl.style.display =\n",
              "          google.colab.kernel.accessAllowed ? 'block' : 'none';\n",
              "\n",
              "        async function convertToInteractive(key) {\n",
              "          const element = document.querySelector('#df-812180ec-30c4-4187-8043-d38ce0233e68');\n",
              "          const dataTable =\n",
              "            await google.colab.kernel.invokeFunction('convertToInteractive',\n",
              "                                                     [key], {});\n",
              "          if (!dataTable) return;\n",
              "\n",
              "          const docLinkHtml = 'Like what you see? Visit the ' +\n",
              "            '<a target=\"_blank\" href=https://colab.research.google.com/notebooks/data_table.ipynb>data table notebook</a>'\n",
              "            + ' to learn more about interactive tables.';\n",
              "          element.innerHTML = '';\n",
              "          dataTable['output_type'] = 'display_data';\n",
              "          await google.colab.output.renderOutput(dataTable, element);\n",
              "          const docLink = document.createElement('div');\n",
              "          docLink.innerHTML = docLinkHtml;\n",
              "          element.appendChild(docLink);\n",
              "        }\n",
              "      </script>\n",
              "    </div>\n",
              "  </div>\n",
              "  "
            ]
          },
          "metadata": {},
          "execution_count": 14
        }
      ]
    },
    {
      "cell_type": "code",
      "source": [
        "labels = gender_class_qtd['class']\n",
        "qtd_homens = gender_class_qtd[(gender_class_qtd['gender'] == 'Masculino')]\n",
        "qtd_mulheres = gender_class_qtd[(gender_class_qtd['gender'] == 'Feminino')]\n",
        "\n",
        "n = 4\n",
        "x = np.arange(4)\n",
        "width = 0.35\n",
        "\n",
        "fig, ax = plt.subplots(figsize=(10,5))\n",
        "rects1 = ax.bar(x - width / 2, qtd_homens['qtd'], width, label='Homens')\n",
        "rects2 = ax.bar(x + width / 2, qtd_mulheres['qtd'], width, label='Mulheres')\n",
        "\n",
        "ax.set_ylabel('Quantidade')\n",
        "ax.set_title('Classificação de pessoas por gênero')\n",
        "ax.set_xticks(x)\n",
        "ax.set_xticklabels(['A','B','C','D'])\n",
        "ax.yaxis.set_ticks(np.arange(0, 2100, 250))\n",
        "ax.legend()\n",
        "\n",
        "fig.tight_layout()\n",
        "\n",
        "plt.show()"
      ],
      "metadata": {
        "colab": {
          "base_uri": "https://localhost:8080/",
          "height": 369
        },
        "id": "kfJ0mQjciRmr",
        "outputId": "f9cfe89d-32aa-42c1-d0ae-f4aff7df3815"
      },
      "execution_count": 15,
      "outputs": [
        {
          "output_type": "display_data",
          "data": {
            "text/plain": [
              "<Figure size 720x360 with 1 Axes>"
            ],
            "image/png": "[encoded data removed]"
          },
          "metadata": {
            "needs_background": "light"
          }
        }
      ]
    },
    {
      "cell_type": "markdown",
      "source": [
        "#### No grafico de classificação por gênero conseguimos ver a distribuição da classificação de performance entre homens e mulheres. Como há mais homens do que mulheres neste conjunto de dados é natural que o número de homens seja maior em cada classificação.\n",
        "#### Além disso, a maioria dos homens levaram a classificação C e a maiora das melhoras levaram a classificação A (a melhor), isto indica que mesmo as mulheres estando em menor número a performance física está melhor em relação aos homens."
      ],
      "metadata": {
        "id": "hja_-5BrlAEI"
      }
    },
    {
      "cell_type": "markdown",
      "source": [
        "## 3. Tratamento dos dados para treinamento"
      ],
      "metadata": {
        "id": "uoTN_xlOMtyQ"
      }
    },
    {
      "cell_type": "markdown",
      "source": [
        "Mudando o tipo de variáveis para o tipo inteiro (integer). Foi identificado que as colunas (*'age', diastolic, 'systolic', 'sit_ups_counts' e 'broad_jump_cm'*) não possuem valores decimais por isso a decisão de torna-los inteiros."
      ],
      "metadata": {
        "id": "-F47K4_KM2Et"
      }
    },
    {
      "cell_type": "code",
      "source": [
        "print('Mudando o tipo de variaveis para o tipo inteiro')\n",
        "body_performance_df = body_performance_df.withColumn('age',col('age').cast(\"integer\"))\n",
        "body_performance_df = body_performance_df.withColumn('diastolic',col('diastolic').cast(\"integer\"))\n",
        "body_performance_df = body_performance_df.withColumn('systolic',col('systolic').cast(\"integer\"))\n",
        "body_performance_df = body_performance_df.withColumn('sit_ups_counts',col('sit_ups_counts').cast(\"integer\"))\n",
        "body_performance_df = body_performance_df.withColumn('broad_jump_cm',col('broad_jump_cm').cast(\"integer\"))\n",
        "body_performance_df.printSchema()"
      ],
      "metadata": {
        "colab": {
          "base_uri": "https://localhost:8080/"
        },
        "id": "C_wKlJY1-yp-",
        "outputId": "fa485630-e3b1-4d57-95ac-739ac0aae9c2"
      },
      "execution_count": 16,
      "outputs": [
        {
          "output_type": "stream",
          "name": "stdout",
          "text": [
            "Mudando o tipo de variaveis para o tipo inteiro\n",
            "root\n",
            " |-- age: integer (nullable = true)\n",
            " |-- gender: string (nullable = true)\n",
            " |-- height_cm: double (nullable = true)\n",
            " |-- weight_kg: double (nullable = true)\n",
            " |-- body_fat: double (nullable = true)\n",
            " |-- diastolic: integer (nullable = true)\n",
            " |-- systolic: integer (nullable = true)\n",
            " |-- gripForce: double (nullable = true)\n",
            " |-- sit_bend_forward: double (nullable = true)\n",
            " |-- sit_ups_counts: integer (nullable = true)\n",
            " |-- broad_jump_cm: integer (nullable = true)\n",
            " |-- class: string (nullable = true)\n",
            "\n"
          ]
        }
      ]
    },
    {
      "cell_type": "code",
      "source": [
        "body_performance_df.show(10)"
      ],
      "metadata": {
        "colab": {
          "base_uri": "https://localhost:8080/"
        },
        "id": "3cJ1tkEnQR38",
        "outputId": "569fd5f6-ef23-4b5e-f834-7c23ca87e058"
      },
      "execution_count": 17,
      "outputs": [
        {
          "output_type": "stream",
          "name": "stdout",
          "text": [
            "+---+------+---------+---------+--------+---------+--------+---------+----------------+--------------+-------------+-----+\n",
            "|age|gender|height_cm|weight_kg|body_fat|diastolic|systolic|gripForce|sit_bend_forward|sit_ups_counts|broad_jump_cm|class|\n",
            "+---+------+---------+---------+--------+---------+--------+---------+----------------+--------------+-------------+-----+\n",
            "| 27|     M|    172.3|    75.24|    21.3|       80|     130|     54.9|            18.4|            60|          217|    C|\n",
            "| 25|     M|    165.0|     55.8|    15.7|       77|     126|     36.4|            16.3|            53|          229|    A|\n",
            "| 31|     M|    179.6|     78.0|    20.1|       92|     152|     44.8|            12.0|            49|          181|    C|\n",
            "| 32|     M|    174.5|     71.1|    18.4|       76|     147|     41.4|            15.2|            53|          219|    B|\n",
            "| 28|     M|    173.8|     67.7|    17.1|       70|     127|     43.5|            27.1|            45|          217|    B|\n",
            "| 36|     F|    165.4|     55.4|    22.0|       64|     119|     23.8|            21.0|            27|          153|    B|\n",
            "| 42|     F|    164.5|     63.7|    32.2|       72|     135|     22.7|             0.8|            18|          146|    D|\n",
            "| 33|     M|    174.9|     77.2|    36.9|       84|     137|     45.9|            12.3|            42|          234|    B|\n",
            "| 54|     M|    166.8|     67.5|    27.6|       85|     165|     40.4|            18.6|            34|          148|    C|\n",
            "| 28|     M|    185.0|     84.6|    14.4|       81|     156|     57.9|            12.1|            55|          213|    B|\n",
            "+---+------+---------+---------+--------+---------+--------+---------+----------------+--------------+-------------+-----+\n",
            "only showing top 10 rows\n",
            "\n"
          ]
        }
      ]
    },
    {
      "cell_type": "markdown",
      "source": [
        "#### 3.1 Indexando o gênero e a classe."
      ],
      "metadata": {
        "id": "pBnsRj7FH1Pe"
      }
    },
    {
      "cell_type": "code",
      "source": [
        "print('Indexando \"gender\"')\n",
        "indexer = StringIndexer(inputCol='gender', outputCol='gender_idx')\n",
        "indexer_model = indexer.fit(body_performance_df)\n",
        "body_df_indexed = indexer_model.transform(body_performance_df)\n",
        "body_df_indexed.select('gender', 'gender_idx').distinct().show()\n",
        "\n",
        "print('Indexando \"class\"')\n",
        "indexer = StringIndexer(inputCol='class', outputCol='class_idx')\n",
        "indexer_model = indexer.fit(body_df_indexed)\n",
        "body_df_indexed = indexer_model.transform(body_df_indexed)\n",
        "body_df_indexed.select('class', 'class_idx').distinct().show()"
      ],
      "metadata": {
        "colab": {
          "base_uri": "https://localhost:8080/"
        },
        "id": "vukrrwt5AAlG",
        "outputId": "63437724-c3ba-4466-be33-0da255d142a3"
      },
      "execution_count": 18,
      "outputs": [
        {
          "output_type": "stream",
          "name": "stdout",
          "text": [
            "Indexando \"gender\"\n",
            "+------+----------+\n",
            "|gender|gender_idx|\n",
            "+------+----------+\n",
            "|     F|       1.0|\n",
            "|     M|       0.0|\n",
            "+------+----------+\n",
            "\n",
            "Indexando \"class\"\n",
            "+-----+---------+\n",
            "|class|class_idx|\n",
            "+-----+---------+\n",
            "|    B|      3.0|\n",
            "|    C|      0.0|\n",
            "|    D|      1.0|\n",
            "|    A|      2.0|\n",
            "+-----+---------+\n",
            "\n"
          ]
        }
      ]
    },
    {
      "cell_type": "markdown",
      "source": [
        "#### 3.2 Transformando campos de valores contínuos em discretos com o Bucktizer.\n"
      ],
      "metadata": {
        "id": "5mWUlYTFBb9U"
      }
    },
    {
      "cell_type": "code",
      "source": [
        "bucket = Bucketizer(splits=[125,145,165,185,194], inputCol='height_cm', outputCol='height_cm_bucket')\n",
        "body_df_bucket = bucket.transform(body_df_indexed)\n",
        "body_df_bucket.select('height_cm','height_cm_bucket').distinct().show()\n",
        "\n",
        "bucket = Bucketizer(splits=[0,120,129,139,180,205], inputCol='systolic', outputCol='systolic_bucket')\n",
        "body_df_bucket = bucket.transform(body_df_bucket)\n",
        "body_df_bucket.select('systolic','systolic_bucket').distinct().show()\n",
        "\n",
        "bucket = Bucketizer(splits=[0,80,89,120,156], inputCol='diastolic', outputCol='diastolic_bucket')\n",
        "body_df_bucket = bucket.transform(body_df_bucket)\n",
        "body_df_bucket.select('diastolic','diastolic_bucket').distinct().show()"
      ],
      "metadata": {
        "colab": {
          "base_uri": "https://localhost:8080/"
        },
        "id": "p05pyL8zoik5",
        "outputId": "f3fb7adb-cd1d-4c39-c082-ac6b7958dc95"
      },
      "execution_count": 20,
      "outputs": [
        {
          "output_type": "stream",
          "name": "stdout",
          "text": [
            "+---------+----------------+\n",
            "|height_cm|height_cm_bucket|\n",
            "+---------+----------------+\n",
            "|    183.8|             2.0|\n",
            "|    160.5|             1.0|\n",
            "|    189.1|             3.0|\n",
            "|    184.1|             2.0|\n",
            "|    143.7|             0.0|\n",
            "|    187.7|             3.0|\n",
            "|    177.6|             2.0|\n",
            "|    163.7|             1.0|\n",
            "|    166.9|             2.0|\n",
            "|    175.4|             2.0|\n",
            "|    178.2|             2.0|\n",
            "|    156.3|             1.0|\n",
            "|    149.5|             1.0|\n",
            "|    184.8|             2.0|\n",
            "|    173.8|             2.0|\n",
            "|    170.0|             2.0|\n",
            "|    177.8|             2.0|\n",
            "|    173.5|             2.0|\n",
            "|    162.1|             1.0|\n",
            "|    177.1|             2.0|\n",
            "+---------+----------------+\n",
            "only showing top 20 rows\n",
            "\n",
            "+--------+---------------+\n",
            "|systolic|systolic_bucket|\n",
            "+--------+---------------+\n",
            "|     103|            0.0|\n",
            "|     201|            4.0|\n",
            "|     120|            1.0|\n",
            "|     106|            0.0|\n",
            "|      84|            0.0|\n",
            "|      91|            0.0|\n",
            "|     158|            3.0|\n",
            "|      92|            0.0|\n",
            "|     144|            3.0|\n",
            "|     122|            1.0|\n",
            "|      97|            0.0|\n",
            "|     184|            4.0|\n",
            "|     148|            3.0|\n",
            "|     111|            0.0|\n",
            "|     136|            2.0|\n",
            "|     181|            4.0|\n",
            "|     131|            2.0|\n",
            "|     107|            0.0|\n",
            "|     135|            2.0|\n",
            "|     110|            0.0|\n",
            "+--------+---------------+\n",
            "only showing top 20 rows\n",
            "\n",
            "+---------+----------------+\n",
            "|diastolic|diastolic_bucket|\n",
            "+---------+----------------+\n",
            "|       30|             0.0|\n",
            "|       98|             2.0|\n",
            "|       82|             1.0|\n",
            "|      120|             3.0|\n",
            "|       92|             2.0|\n",
            "|       94|             2.0|\n",
            "|       56|             0.0|\n",
            "|      112|             2.0|\n",
            "|       58|             0.0|\n",
            "|       40|             0.0|\n",
            "|       76|             0.0|\n",
            "|       91|             2.0|\n",
            "|       77|             0.0|\n",
            "|       64|             0.0|\n",
            "|       37|             0.0|\n",
            "|       47|             0.0|\n",
            "|      105|             2.0|\n",
            "|       99|             2.0|\n",
            "|       88|             1.0|\n",
            "|       57|             0.0|\n",
            "+---------+----------------+\n",
            "only showing top 20 rows\n",
            "\n"
          ]
        }
      ]
    },
    {
      "cell_type": "markdown",
      "source": [
        "####3.3 Transformando os buckets em OneHot"
      ],
      "metadata": {
        "id": "zdL2RcjohspF"
      }
    },
    {
      "cell_type": "code",
      "source": [
        "print('Criando one-hots para \"height_cm\", \"systolic\" e \"diastolic\"')\n",
        "onehot = OneHotEncoder(inputCol='height_cm_bucket', outputCol='height_cm_oh')\n",
        "body_df_oh = onehot.fit(body_df_bucket).transform(body_df_bucket)\n",
        "body_df_oh.select('height_cm_bucket', 'height_cm_oh').distinct().show()\n",
        "\n",
        "onehot = OneHotEncoder(inputCol='systolic_bucket', outputCol='systolic_oh')\n",
        "body_df_oh = onehot.fit(body_df_oh).transform(body_df_oh)\n",
        "body_df_oh.select('systolic_bucket', 'systolic_oh').distinct().show()\n",
        "\n",
        "onehot = OneHotEncoder(inputCol='diastolic_bucket', outputCol='diastolic_oh')\n",
        "body_df_oh = onehot.fit(body_df_oh).transform(body_df_oh)\n",
        "body_df_oh.select('diastolic_bucket', 'diastolic_oh').distinct().show()"
      ],
      "metadata": {
        "colab": {
          "base_uri": "https://localhost:8080/"
        },
        "id": "AczEVlexfk52",
        "outputId": "fb2058cd-71a1-43a4-89c5-5db6fdb2e8aa"
      },
      "execution_count": 21,
      "outputs": [
        {
          "output_type": "stream",
          "name": "stdout",
          "text": [
            "Criando one-hots para \"height_cm\", \"systolic\" e \"diastolic\"\n",
            "+----------------+-------------+\n",
            "|height_cm_bucket| height_cm_oh|\n",
            "+----------------+-------------+\n",
            "|             3.0|    (3,[],[])|\n",
            "|             2.0|(3,[2],[1.0])|\n",
            "|             1.0|(3,[1],[1.0])|\n",
            "|             0.0|(3,[0],[1.0])|\n",
            "+----------------+-------------+\n",
            "\n",
            "+---------------+-------------+\n",
            "|systolic_bucket|  systolic_oh|\n",
            "+---------------+-------------+\n",
            "|            0.0|(4,[0],[1.0])|\n",
            "|            2.0|(4,[2],[1.0])|\n",
            "|            3.0|(4,[3],[1.0])|\n",
            "|            4.0|    (4,[],[])|\n",
            "|            1.0|(4,[1],[1.0])|\n",
            "+---------------+-------------+\n",
            "\n",
            "+----------------+-------------+\n",
            "|diastolic_bucket| diastolic_oh|\n",
            "+----------------+-------------+\n",
            "|             3.0|    (3,[],[])|\n",
            "|             2.0|(3,[2],[1.0])|\n",
            "|             1.0|(3,[1],[1.0])|\n",
            "|             0.0|(3,[0],[1.0])|\n",
            "+----------------+-------------+\n",
            "\n"
          ]
        }
      ]
    },
    {
      "cell_type": "code",
      "source": [
        "body_df_oh.show(10)"
      ],
      "metadata": {
        "colab": {
          "base_uri": "https://localhost:8080/"
        },
        "id": "jQygITiKAukC",
        "outputId": "065dd84d-6922-4fc4-a31f-7f1e7263235c"
      },
      "execution_count": 22,
      "outputs": [
        {
          "output_type": "stream",
          "name": "stdout",
          "text": [
            "+---+------+---------+---------+--------+---------+--------+---------+----------------+--------------+-------------+-----+----------+---------+----------------+---------------+----------------+-------------+-------------+-------------+\n",
            "|age|gender|height_cm|weight_kg|body_fat|diastolic|systolic|gripForce|sit_bend_forward|sit_ups_counts|broad_jump_cm|class|gender_idx|class_idx|height_cm_bucket|systolic_bucket|diastolic_bucket| height_cm_oh|  systolic_oh| diastolic_oh|\n",
            "+---+------+---------+---------+--------+---------+--------+---------+----------------+--------------+-------------+-----+----------+---------+----------------+---------------+----------------+-------------+-------------+-------------+\n",
            "| 27|     M|    172.3|    75.24|    21.3|       80|     130|     54.9|            18.4|            60|          217|    C|       0.0|      0.0|             2.0|            2.0|             1.0|(3,[2],[1.0])|(4,[2],[1.0])|(3,[1],[1.0])|\n",
            "| 25|     M|    165.0|     55.8|    15.7|       77|     126|     36.4|            16.3|            53|          229|    A|       0.0|      2.0|             2.0|            1.0|             0.0|(3,[2],[1.0])|(4,[1],[1.0])|(3,[0],[1.0])|\n",
            "| 31|     M|    179.6|     78.0|    20.1|       92|     152|     44.8|            12.0|            49|          181|    C|       0.0|      0.0|             2.0|            3.0|             2.0|(3,[2],[1.0])|(4,[3],[1.0])|(3,[2],[1.0])|\n",
            "| 32|     M|    174.5|     71.1|    18.4|       76|     147|     41.4|            15.2|            53|          219|    B|       0.0|      3.0|             2.0|            3.0|             0.0|(3,[2],[1.0])|(4,[3],[1.0])|(3,[0],[1.0])|\n",
            "| 28|     M|    173.8|     67.7|    17.1|       70|     127|     43.5|            27.1|            45|          217|    B|       0.0|      3.0|             2.0|            1.0|             0.0|(3,[2],[1.0])|(4,[1],[1.0])|(3,[0],[1.0])|\n",
            "| 36|     F|    165.4|     55.4|    22.0|       64|     119|     23.8|            21.0|            27|          153|    B|       1.0|      3.0|             2.0|            0.0|             0.0|(3,[2],[1.0])|(4,[0],[1.0])|(3,[0],[1.0])|\n",
            "| 42|     F|    164.5|     63.7|    32.2|       72|     135|     22.7|             0.8|            18|          146|    D|       1.0|      1.0|             1.0|            2.0|             0.0|(3,[1],[1.0])|(4,[2],[1.0])|(3,[0],[1.0])|\n",
            "| 33|     M|    174.9|     77.2|    36.9|       84|     137|     45.9|            12.3|            42|          234|    B|       0.0|      3.0|             2.0|            2.0|             1.0|(3,[2],[1.0])|(4,[2],[1.0])|(3,[1],[1.0])|\n",
            "| 54|     M|    166.8|     67.5|    27.6|       85|     165|     40.4|            18.6|            34|          148|    C|       0.0|      0.0|             2.0|            3.0|             1.0|(3,[2],[1.0])|(4,[3],[1.0])|(3,[1],[1.0])|\n",
            "| 28|     M|    185.0|     84.6|    14.4|       81|     156|     57.9|            12.1|            55|          213|    B|       0.0|      3.0|             3.0|            3.0|             1.0|    (3,[],[])|(4,[3],[1.0])|(3,[1],[1.0])|\n",
            "+---+------+---------+---------+--------+---------+--------+---------+----------------+--------------+-------------+-----+----------+---------+----------------+---------------+----------------+-------------+-------------+-------------+\n",
            "only showing top 10 rows\n",
            "\n"
          ]
        }
      ]
    },
    {
      "cell_type": "markdown",
      "source": [
        "#### 3.4 Simplificando os dados de treinamento em 2 colunas (features e class) e criando o vetor."
      ],
      "metadata": {
        "id": "Wedb3QCsIcTp"
      }
    },
    {
      "cell_type": "code",
      "source": [
        "cols_to_use = ['age','height_cm_oh','weight_kg','body_fat','diastolic_oh', 'diastolic_oh', 'gripForce', 'sit_bend_forward', 'sit_ups_counts', 'broad_jump_cm', 'gender_idx']\n",
        "vec = VectorAssembler(inputCols=cols_to_use, outputCol='features')\n",
        "body_df_vec = vec.transform(body_df_oh)\n",
        "body_df_vec.select('features', 'class_idx').show(truncate=False)"
      ],
      "metadata": {
        "colab": {
          "base_uri": "https://localhost:8080/"
        },
        "id": "TX3oP7ZtDHkG",
        "outputId": "c6964cd2-1a9a-4cb7-b436-2e52db47e9b3"
      },
      "execution_count": 38,
      "outputs": [
        {
          "output_type": "stream",
          "name": "stdout",
          "text": [
            "+----------------------------------------------------------------------------------+---------+\n",
            "|features                                                                          |class_idx|\n",
            "+----------------------------------------------------------------------------------+---------+\n",
            "|(17,[0,3,4,5,7,10,12,13,14,15],[27.0,1.0,75.24,21.3,1.0,1.0,54.9,18.4,60.0,217.0])|0.0      |\n",
            "|(17,[0,3,4,5,6,9,12,13,14,15],[25.0,1.0,55.8,15.7,1.0,1.0,36.4,16.3,53.0,229.0])  |2.0      |\n",
            "|(17,[0,3,4,5,8,11,12,13,14,15],[31.0,1.0,78.0,20.1,1.0,1.0,44.8,12.0,49.0,181.0]) |0.0      |\n",
            "|(17,[0,3,4,5,6,9,12,13,14,15],[32.0,1.0,71.1,18.4,1.0,1.0,41.4,15.2,53.0,219.0])  |3.0      |\n",
            "|(17,[0,3,4,5,6,9,12,13,14,15],[28.0,1.0,67.7,17.1,1.0,1.0,43.5,27.1,45.0,217.0])  |3.0      |\n",
            "|[36.0,0.0,0.0,1.0,55.4,22.0,1.0,0.0,0.0,1.0,0.0,0.0,23.8,21.0,27.0,153.0,1.0]     |3.0      |\n",
            "|[42.0,0.0,1.0,0.0,63.7,32.2,1.0,0.0,0.0,1.0,0.0,0.0,22.7,0.8,18.0,146.0,1.0]      |1.0      |\n",
            "|(17,[0,3,4,5,7,10,12,13,14,15],[33.0,1.0,77.2,36.9,1.0,1.0,45.9,12.3,42.0,234.0]) |3.0      |\n",
            "|(17,[0,3,4,5,7,10,12,13,14,15],[54.0,1.0,67.5,27.6,1.0,1.0,40.4,18.6,34.0,148.0]) |0.0      |\n",
            "|(17,[0,4,5,7,10,12,13,14,15],[28.0,84.6,14.4,1.0,1.0,57.9,12.1,55.0,213.0])       |3.0      |\n",
            "|(17,[0,3,4,5,6,9,12,13,14,15],[42.0,1.0,65.4,19.3,1.0,1.0,43.5,16.0,68.0,211.0])  |2.0      |\n",
            "|(17,[0,2,4,5,6,9,12,13,15,16],[57.0,1.0,49.0,20.9,1.0,1.0,21.5,30.0,90.0,1.0])    |1.0      |\n",
            "|[27.0,0.0,1.0,0.0,53.9,35.5,1.0,0.0,0.0,1.0,0.0,0.0,23.1,13.1,28.0,144.0,1.0]     |0.0      |\n",
            "|(17,[0,3,4,5,6,9,12,13,14,15],[22.0,1.0,67.9,11.3,1.0,1.0,52.5,19.2,55.0,232.0])  |0.0      |\n",
            "|(17,[0,3,4,5,7,10,12,13,14,15],[24.0,1.0,84.4,20.4,1.0,1.0,48.9,7.2,54.0,213.0])  |0.0      |\n",
            "|[45.0,0.0,1.0,0.0,63.1,30.9,0.0,0.0,1.0,0.0,0.0,1.0,34.1,19.0,30.0,155.0,1.0]     |2.0      |\n",
            "|[25.0,0.0,1.0,0.0,66.6,30.2,0.0,1.0,0.0,0.0,1.0,0.0,25.7,22.9,39.0,178.0,1.0]     |0.0      |\n",
            "|(17,[0,3,4,5,6,9,12,13,14,15],[26.0,1.0,71.5,9.7,1.0,1.0,59.6,17.8,61.0,239.0])   |2.0      |\n",
            "|(17,[0,3,4,5,6,9,12,13,14,15],[26.0,1.0,70.6,21.0,1.0,1.0,41.3,15.1,53.0,225.0])  |3.0      |\n",
            "|[21.0,0.0,1.0,0.0,47.2,18.9,1.0,0.0,0.0,1.0,0.0,0.0,25.4,20.5,36.0,137.0,1.0]     |3.0      |\n",
            "+----------------------------------------------------------------------------------+---------+\n",
            "only showing top 20 rows\n",
            "\n"
          ]
        }
      ]
    },
    {
      "cell_type": "markdown",
      "source": [
        "## 4. Treinando e testando os algorítmos"
      ],
      "metadata": {
        "id": "YGiwR826ReJI"
      }
    },
    {
      "cell_type": "markdown",
      "source": [
        "#### Neste projeto utilizaremos três algorítmos de classificação sendo eles:\n",
        "#### Os algorítmos testados são:\n",
        "* Decision Tree Classifier\n",
        "* Random Forest Classifier\n",
        "* Gradient Boosted Tree Classifier\n",
        "\n",
        "#### Estes algorítmos são ideais para treinar um conjunto de dados de **multiplas classes** como é o caso deste *dataset*. O conjunto será dividido em 80% para treinamento e 20% para realização de testes."
      ],
      "metadata": {
        "id": "Q__upVzma90m"
      }
    },
    {
      "cell_type": "markdown",
      "source": [
        "### 4.1 DecisionTreeClassifier"
      ],
      "metadata": {
        "id": "e_OcgJNkRi7B"
      }
    },
    {
      "cell_type": "code",
      "source": [
        "body_train, body_test = body_df_vec.randomSplit([0.8,0.2], seed=123)\n",
        "print('Decision tree Classifier')\n",
        "dt_body_model = DecisionTreeClassifier(featuresCol='features', labelCol='class_idx')\n",
        "preds_dt_body = dt_body_model.fit(body_train).transform(body_test)\n",
        "preds_dt_body.select('class_idx', 'prediction', 'probability').show(10, truncate=False)\n",
        "\n",
        "multi_eval = MulticlassClassificationEvaluator().setLabelCol('class_idx')\n",
        "\n",
        "acc_dt_body = round(multi_eval.evaluate(preds_dt_body, {multi_eval.metricName: 'accuracy'}),2)\n",
        "prec_dt_body = round(multi_eval.evaluate(preds_dt_body, {multi_eval.metricName: 'weightedPrecision'}),2)\n",
        "recall_dt_body = round(multi_eval.evaluate(preds_dt_body, {multi_eval.metricName: 'weightedRecall'}),2)\n",
        "\n",
        "print('Matriz de confusão')\n",
        "preds_dt_body.groupBy('class_idx', 'prediction').count().show()\n",
        "\n",
        "print(f'Accuracy: {acc_dt_body}')\n",
        "print(f'Precision: {prec_dt_body}')\n",
        "print(f'Recall: {recall_dt_body}')"
      ],
      "metadata": {
        "colab": {
          "base_uri": "https://localhost:8080/"
        },
        "id": "P6pRtQ4CFbbF",
        "outputId": "79ebbd31-84d5-4dff-ece7-da182967c9e6"
      },
      "execution_count": 42,
      "outputs": [
        {
          "output_type": "stream",
          "name": "stdout",
          "text": [
            "Decision tree Classifier\n",
            "+---------+----------+----------------------------------------------------------------------------------+\n",
            "|class_idx|prediction|probability                                                                       |\n",
            "+---------+----------+----------------------------------------------------------------------------------+\n",
            "|1.0      |0.0       |[0.44426494345718903,0.1680129240710824,0.10662358642972536,0.28109854604200324]  |\n",
            "|3.0      |2.0       |[0.13050075872534142,0.04286798179059181,0.6047040971168437,0.22192716236722307]  |\n",
            "|1.0      |1.0       |[0.002325581395348837,0.9976744186046511,0.0,0.0]                                 |\n",
            "|0.0      |0.0       |[0.44426494345718903,0.1680129240710824,0.10662358642972536,0.28109854604200324]  |\n",
            "|0.0      |0.0       |[0.44426494345718903,0.1680129240710824,0.10662358642972536,0.28109854604200324]  |\n",
            "|2.0      |2.0       |[0.13050075872534142,0.04286798179059181,0.6047040971168437,0.22192716236722307]  |\n",
            "|0.0      |3.0       |[0.37335398915569323,0.07978311386522076,0.061967467079783116,0.48489542989930284]|\n",
            "|3.0      |3.0       |[0.24063280599500417,0.09908409658617819,0.25645295587010825,0.4038301415487094]  |\n",
            "|3.0      |2.0       |[0.13050075872534142,0.04286798179059181,0.6047040971168437,0.22192716236722307]  |\n",
            "|2.0      |2.0       |[0.13050075872534142,0.04286798179059181,0.6047040971168437,0.22192716236722307]  |\n",
            "+---------+----------+----------------------------------------------------------------------------------+\n",
            "only showing top 10 rows\n",
            "\n",
            "Matriz de confusão\n",
            "+---------+----------+-----+\n",
            "|class_idx|prediction|count|\n",
            "+---------+----------+-----+\n",
            "|      2.0|       0.0|   47|\n",
            "|      1.0|       1.0|  487|\n",
            "|      3.0|       2.0|  246|\n",
            "|      0.0|       1.0|   46|\n",
            "|      1.0|       0.0|   92|\n",
            "|      2.0|       2.0|  526|\n",
            "|      3.0|       1.0|   29|\n",
            "|      2.0|       3.0|   79|\n",
            "|      2.0|       1.0|    2|\n",
            "|      1.0|       2.0|   38|\n",
            "|      0.0|       0.0|  284|\n",
            "|      1.0|       3.0|   68|\n",
            "|      0.0|       2.0|  107|\n",
            "|      3.0|       3.0|  314|\n",
            "|      0.0|       3.0|  220|\n",
            "|      3.0|       0.0|  126|\n",
            "+---------+----------+-----+\n",
            "\n",
            "Accuracy: 0.59\n",
            "Precision: 0.6\n",
            "Recall: 0.59\n"
          ]
        }
      ]
    },
    {
      "cell_type": "markdown",
      "source": [
        "### 4.2 RandomForestClassifier"
      ],
      "metadata": {
        "id": "6CKvFeE1S9Qf"
      }
    },
    {
      "cell_type": "code",
      "source": [
        "rfc = RandomForestClassifier(featuresCol='features', labelCol='class_idx', numTrees=50)\n",
        "preds_rfc_body = rfc.fit(body_train).transform(body_test)\n",
        "preds_rfc_body.select('class_idx', 'prediction', 'probability').show(10, truncate=False)\n",
        "\n",
        "multi_eval = MulticlassClassificationEvaluator().setLabelCol('class_idx')\n",
        "\n",
        "acc_rfc_body = round(multi_eval.evaluate(preds_dt_body, {multi_eval.metricName: 'accuracy'}),2)\n",
        "prec_rfc_body = round(multi_eval.evaluate(preds_rfc_body, {multi_eval.metricName: 'weightedPrecision'}),2)\n",
        "recall_rfc_body = round(multi_eval.evaluate(preds_rfc_body, {multi_eval.metricName: 'weightedRecall'}),2)\n",
        "\n",
        "print('Matriz de confusão')\n",
        "preds_rfc_body.groupBy('class_idx', 'prediction').count().show()\n",
        "\n",
        "print(f'Accuracy: {acc_rfc_body}')\n",
        "print(f'Precision: {prec_rfc_body}')\n",
        "print(f'Recall: {recall_rfc_body}')"
      ],
      "metadata": {
        "colab": {
          "base_uri": "https://localhost:8080/"
        },
        "id": "f5KhUJKaI47w",
        "outputId": "73a3a59b-9263-4a8b-e97c-a33d688edd94"
      },
      "execution_count": 43,
      "outputs": [
        {
          "output_type": "stream",
          "name": "stdout",
          "text": [
            "+---------+----------+----------------------------------------------------------------------------------+\n",
            "|class_idx|prediction|probability                                                                       |\n",
            "+---------+----------+----------------------------------------------------------------------------------+\n",
            "|1.0      |0.0       |[0.45131809991235217,0.31292145939498683,0.05986892734634955,0.17589151334631148] |\n",
            "|3.0      |2.0       |[0.18916011402015187,0.12516293587655034,0.4173754203685728,0.26830152973472504]  |\n",
            "|1.0      |1.0       |[0.06229598756801269,0.8949825751398601,0.012327993688156659,0.030393443603970526]|\n",
            "|0.0      |0.0       |[0.3818293096011098,0.32998738814246986,0.07785404682653146,0.21032925542988873]  |\n",
            "|0.0      |0.0       |[0.391738221314738,0.22165398594827754,0.11379913278973296,0.27280865994725145]   |\n",
            "|2.0      |2.0       |[0.1889134175738914,0.12395081505067522,0.43297899062828343,0.25415677674715]     |\n",
            "|0.0      |2.0       |[0.22613911289879304,0.073465723156336,0.35108567490613823,0.34930948903873277]   |\n",
            "|3.0      |3.0       |[0.22564245241305605,0.09585293294793758,0.3335626658293833,0.3449419488096229]   |\n",
            "|3.0      |2.0       |[0.15513855342791694,0.05111084413167339,0.530207491333191,0.2635431111072187]    |\n",
            "|2.0      |2.0       |[0.14316693232718236,0.06941904026084235,0.5422608525685915,0.24515317484338386]  |\n",
            "+---------+----------+----------------------------------------------------------------------------------+\n",
            "only showing top 10 rows\n",
            "\n",
            "Matriz de confusão\n",
            "+---------+----------+-----+\n",
            "|class_idx|prediction|count|\n",
            "+---------+----------+-----+\n",
            "|      2.0|       0.0|   44|\n",
            "|      1.0|       1.0|  544|\n",
            "|      3.0|       2.0|  323|\n",
            "|      0.0|       1.0|   55|\n",
            "|      1.0|       0.0|   86|\n",
            "|      2.0|       2.0|  571|\n",
            "|      3.0|       1.0|   54|\n",
            "|      2.0|       3.0|   29|\n",
            "|      2.0|       1.0|   10|\n",
            "|      1.0|       2.0|   34|\n",
            "|      0.0|       0.0|  363|\n",
            "|      1.0|       3.0|   21|\n",
            "|      0.0|       2.0|  158|\n",
            "|      3.0|       3.0|  173|\n",
            "|      0.0|       3.0|   81|\n",
            "|      3.0|       0.0|  165|\n",
            "+---------+----------+-----+\n",
            "\n",
            "Accuracy: 0.59\n",
            "Precision: 0.62\n",
            "Recall: 0.61\n"
          ]
        }
      ]
    },
    {
      "cell_type": "markdown",
      "source": [
        "## 4.3 Gradient Boosted Tree Classifier"
      ],
      "metadata": {
        "id": "P5BaOnBQWA3C"
      }
    },
    {
      "cell_type": "code",
      "source": [
        "gbt = GBTClassifier(featuresCol='features', labelCol='class_idx', maxIter=50)\n",
        "preds_gbt_body = rfc.fit(body_train).transform(body_test)\n",
        "preds_gbt_body.select('class_idx', 'prediction', 'probability').show(10, truncate=False)\n",
        "\n",
        "multi_eval = MulticlassClassificationEvaluator().setLabelCol('class_idx')\n",
        "\n",
        "acc_gbt_body = round(multi_eval.evaluate(preds_dt_body, {multi_eval.metricName: 'accuracy'}),2)\n",
        "prec_gbt_body = round(multi_eval.evaluate(preds_gbt_body, {multi_eval.metricName: 'weightedPrecision'}),2)\n",
        "recall_gbt_body = round(multi_eval.evaluate(preds_gbt_body, {multi_eval.metricName: 'weightedRecall'}),2)\n",
        "\n",
        "print('Matriz de confusão')\n",
        "preds_gbt_body.groupBy('class_idx', 'prediction').count().show()\n",
        "\n",
        "print(f'Accuracy: {acc_gbt_body}')\n",
        "print(f'Precision: {prec_gbt_body}')\n",
        "print(f'Recall: {recall_gbt_body}')"
      ],
      "metadata": {
        "colab": {
          "base_uri": "https://localhost:8080/"
        },
        "id": "tWAac-ghVmC8",
        "outputId": "55c1b480-587d-47cc-f313-0ad370a6f7ba"
      },
      "execution_count": 44,
      "outputs": [
        {
          "output_type": "stream",
          "name": "stdout",
          "text": [
            "+---------+----------+----------------------------------------------------------------------------------+\n",
            "|class_idx|prediction|probability                                                                       |\n",
            "+---------+----------+----------------------------------------------------------------------------------+\n",
            "|1.0      |0.0       |[0.45131809991235217,0.31292145939498683,0.05986892734634955,0.17589151334631148] |\n",
            "|3.0      |2.0       |[0.18916011402015187,0.12516293587655034,0.4173754203685728,0.26830152973472504]  |\n",
            "|1.0      |1.0       |[0.06229598756801269,0.8949825751398601,0.012327993688156659,0.030393443603970526]|\n",
            "|0.0      |0.0       |[0.3818293096011098,0.32998738814246986,0.07785404682653146,0.21032925542988873]  |\n",
            "|0.0      |0.0       |[0.391738221314738,0.22165398594827754,0.11379913278973296,0.27280865994725145]   |\n",
            "|2.0      |2.0       |[0.1889134175738914,0.12395081505067522,0.43297899062828343,0.25415677674715]     |\n",
            "|0.0      |2.0       |[0.22613911289879304,0.073465723156336,0.35108567490613823,0.34930948903873277]   |\n",
            "|3.0      |3.0       |[0.22564245241305605,0.09585293294793758,0.3335626658293833,0.3449419488096229]   |\n",
            "|3.0      |2.0       |[0.15513855342791694,0.05111084413167339,0.530207491333191,0.2635431111072187]    |\n",
            "|2.0      |2.0       |[0.14316693232718236,0.06941904026084235,0.5422608525685915,0.24515317484338386]  |\n",
            "+---------+----------+----------------------------------------------------------------------------------+\n",
            "only showing top 10 rows\n",
            "\n",
            "Matriz de confusão\n",
            "+---------+----------+-----+\n",
            "|class_idx|prediction|count|\n",
            "+---------+----------+-----+\n",
            "|      2.0|       0.0|   44|\n",
            "|      1.0|       1.0|  544|\n",
            "|      3.0|       2.0|  323|\n",
            "|      0.0|       1.0|   55|\n",
            "|      1.0|       0.0|   86|\n",
            "|      2.0|       2.0|  571|\n",
            "|      3.0|       1.0|   54|\n",
            "|      2.0|       3.0|   29|\n",
            "|      2.0|       1.0|   10|\n",
            "|      1.0|       2.0|   34|\n",
            "|      0.0|       0.0|  363|\n",
            "|      1.0|       3.0|   21|\n",
            "|      0.0|       2.0|  158|\n",
            "|      3.0|       3.0|  173|\n",
            "|      0.0|       3.0|   81|\n",
            "|      3.0|       0.0|  165|\n",
            "+---------+----------+-----+\n",
            "\n",
            "Accuracy: 0.59\n",
            "Precision: 0.62\n",
            "Recall: 0.61\n"
          ]
        }
      ]
    },
    {
      "cell_type": "markdown",
      "source": [
        "#5.Discussão dos resultados\n",
        "---\n",
        "#### Vemos que o *Decision Tree Classifier* atingiu a acurácia de 59% e teve sua precisão (*precision*) de 60% o que significa que de todas pessoas classificadas este percentual realmente é positivo. E seu *recall* equivalente a 59% o que significa que de todas as análises que realmente são positivos, este é o percentual  que é identificado corretamente pelo modelo.\n",
        "\n",
        "#### Já o *Random Forest Classifier* também atingiu uma acurácia de 59% porém sua precisão (*precision*) foi de 62% o que significa que de todas pessoas classificadas este percentual realmente é positivo. E seu *recall* de 61% o que significa que de todas as análises que realmente são positivas, este é o percentual que é identificado corretamente pelo modelo.\n",
        "\n",
        "#### O *Gradient Boosted Tree Classifier* teve suas métricas exatamente iguais ao *Random Forest Classifier*."
      ],
      "metadata": {
        "id": "8rLJFu-4R8GO"
      }
    },
    {
      "cell_type": "markdown",
      "source": [
        "#6. Conclusão\n",
        "\n",
        "\n",
        "---\n",
        "####Fizemos uma breve análise exploratória nos dados e observamos que neste conjunto de dados, pessoas entre a idade de 21 a 64 foram analisadas. Além disso, o número de pessoas analisadas do sexo masculino supera o feminino em qualquer faixa etária.\n",
        "####Podemos concluir também que apesar do número da mulher ser inferior ao homem, sua classicação A foi a que atingiu maior número.\n",
        "\n",
        "####Referente ao treinamento foram realizadas transformações no conjunto de dados utilizando o *StringIndexer*, *OneHotEncoder*, *Bucketizer* e o *VectorAssembler* para preparar os dados para os algorítmos de classificação.\n",
        "####Apesar de que todos os algorítmos de classificação atingiram uma acurácia de 59%, para este projeto o melhor algorítmo foi o `RandomForestClassifier` e `GBTClassifier`, pelo detalhe de terem atingido a precisão maior que o `DecisionTreeClassifier`.\n"
      ],
      "metadata": {
        "id": "0wDHlRDaDyLe"
      }
    }
  ]
}